{
 "metadata": {
  "language_info": {
   "codemirror_mode": {
    "name": "ipython",
    "version": 3
   },
   "file_extension": ".py",
   "mimetype": "text/x-python",
   "name": "python",
   "nbconvert_exporter": "python",
   "pygments_lexer": "ipython3",
   "version": "3.9.1"
  },
  "orig_nbformat": 2,
  "kernelspec": {
   "name": "python391jvsc74a57bd04cd7ab41f5fca4b9b44701077e38c5ffd31fe66a6cab21e0214b68d958d0e462",
   "display_name": "Python 3.9.1 64-bit"
  },
  "metadata": {
   "interpreter": {
    "hash": "4cd7ab41f5fca4b9b44701077e38c5ffd31fe66a6cab21e0214b68d958d0e462"
   }
  }
 },
 "nbformat": 4,
 "nbformat_minor": 2,
 "cells": [
  {
   "source": [
    "# ED00 practice diagram 00\n",
    "\n",
    "if-else and conditions"
   ],
   "cell_type": "markdown",
   "metadata": {}
  },
  {
   "cell_type": "code",
   "execution_count": 4,
   "metadata": {},
   "outputs": [
    {
     "output_type": "stream",
     "name": "stdout",
     "text": [
      "ADEF\n"
     ]
    }
   ],
   "source": [
    "def main() -> None:\n",
    "    x: int = 5\n",
    "    y: int = 3\n",
    "    z: str = buildup(x,y)\n",
    "    print(z)\n",
    "\n",
    "\n",
    "def buildup(num1: int, num2: int) -> str:\n",
    "    out: str = \"A\"\n",
    "    if (num1 + num2) > 10:\n",
    "        out = out + fun(num1 + num2, \"B\")\n",
    "    elif (num1 - num2) < 0:\n",
    "        out = out + fun(num1 - num2, \"C\")\n",
    "    else:\n",
    "        out = out + fun(num1 * num2, \"D\")\n",
    "    return out\n",
    "\n",
    "\n",
    "def fun(n: int, s: str) -> str:\n",
    "    if n > 5:\n",
    "        s = s + \"E\"\n",
    "    if n > 10:\n",
    "        s = s + \"F\"\n",
    "    return s\n",
    "\n",
    "\n",
    "main()"
   ]
  },
  {
   "source": [
    "# ED01 practice diagram 01\n",
    "\n",
    "Nested Function Calls"
   ],
   "cell_type": "markdown",
   "metadata": {}
  },
  {
   "cell_type": "code",
   "execution_count": 1,
   "metadata": {},
   "outputs": [
    {
     "output_type": "stream",
     "name": "stdout",
     "text": [
      "Go\nGo\nTar Heels!\n"
     ]
    }
   ],
   "source": [
    "def main() -> None:\n",
    "    result: str = baz(foo(bar(2,4)))\n",
    "    print(result)\n",
    "\n",
    "\n",
    "def foo(n: int) -> bool:\n",
    "    e: bool = ((n % 2) == 0)\n",
    "    return e\n",
    "\n",
    "\n",
    "def bar(x: int, y:int) -> int:\n",
    "    while (x < y):\n",
    "        print(\"Go\")\n",
    "        x = x + 1\n",
    "    return x + y\n",
    "\n",
    "\n",
    "def baz(b: bool) -> str:\n",
    "    if b:\n",
    "        return \"Tar Heels!\"\n",
    "    else:\n",
    "        return \"Carolina!\"\n",
    "\n",
    "\n",
    "main()"
   ]
  },
  {
   "source": [
    "# ED02 Practice Diagram 02\n",
    "\n",
    "Name resolution"
   ],
   "cell_type": "markdown",
   "metadata": {}
  },
  {
   "cell_type": "code",
   "execution_count": 2,
   "metadata": {},
   "outputs": [
    {
     "output_type": "stream",
     "name": "stdout",
     "text": [
      "A\nB\nA\nAC\nAC\n"
     ]
    }
   ],
   "source": [
    "def main() -> None:\n",
    "    x: str = \"A\"\n",
    "    print(x)\n",
    "    woo()\n",
    "    print(x)\n",
    "    x = transform(x)\n",
    "    print(x)\n",
    "\n",
    "\n",
    "def woo() -> None:\n",
    "    x: str = \"B\"\n",
    "    print(x)\n",
    "\n",
    "\n",
    "def transform(x: str) -> str:\n",
    "    x = x + \"C\"\n",
    "    print(x)\n",
    "    return x\n",
    "\n",
    "\n",
    "main()"
   ]
  },
  {
   "source": [
    "# ED03 Practice Diagram 03\n",
    "\n",
    "List traversal"
   ],
   "cell_type": "markdown",
   "metadata": {}
  },
  {
   "cell_type": "code",
   "execution_count": 10,
   "metadata": {},
   "outputs": [
    {
     "output_type": "stream",
     "name": "stdout",
     "text": [
      "['pow', 'kaboom', 'wham', 'splat', 'boing']\n"
     ]
    }
   ],
   "source": [
    "def main() -> None:\n",
    "    comic_noises: list[str] = []\n",
    "    i: int = 0\n",
    "    while i < 6:\n",
    "        if (i % 3) == 0:\n",
    "            comic_noises.append(\"pow\")\n",
    "            i += 1\n",
    "            comic_noises.append(\"kaboom\")\n",
    "        elif i < 3:\n",
    "            comic_noises.append(\"wham\")\n",
    "        i += 1\n",
    "    \n",
    "    j: int = 0\n",
    "    z: int = 2\n",
    "    while j < len(comic_noises):\n",
    "        if z == 3:\n",
    "            comic_noises[z] = \"splat\"\n",
    "            z *= 3\n",
    "        elif z > 10:\n",
    "            comic_noises[j] = \"boing\"\n",
    "            z -= 8\n",
    "        else:\n",
    "            z += 1\n",
    "        j += 1\n",
    "    print(comic_noises)\n",
    "\n",
    "\n",
    "main()"
   ]
  }
 ]
}