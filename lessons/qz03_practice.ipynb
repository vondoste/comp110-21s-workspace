{
 "metadata": {
  "language_info": {
   "codemirror_mode": {
    "name": "ipython",
    "version": 3
   },
   "file_extension": ".py",
   "mimetype": "text/x-python",
   "name": "python",
   "nbconvert_exporter": "python",
   "pygments_lexer": "ipython3",
   "version": "3.9.1"
  },
  "orig_nbformat": 2,
  "kernelspec": {
   "name": "python391jvsc74a57bd04cd7ab41f5fca4b9b44701077e38c5ffd31fe66a6cab21e0214b68d958d0e462",
   "display_name": "Python 3.9.1 64-bit"
  },
  "metadata": {
   "interpreter": {
    "hash": "4cd7ab41f5fca4b9b44701077e38c5ffd31fe66a6cab21e0214b68d958d0e462"
   }
  }
 },
 "nbformat": 4,
 "nbformat_minor": 2,
 "cells": [
  {
   "source": [
    "# Function Writing 1\n",
    "\n"
   ],
   "cell_type": "markdown",
   "metadata": {}
  },
  {
   "cell_type": "code",
   "execution_count": 5,
   "metadata": {},
   "outputs": [
    {
     "output_type": "execute_result",
     "data": {
      "text/plain": [
       "{2: [2, 4], 5: [15, 20]}"
      ]
     },
     "metadata": {},
     "execution_count": 5
    }
   ],
   "source": [
    "\"\"\"Write a function called dictTransform that takes in a dictionary of integer keys and values that are lists of integers (e.g. dict[int, list[int]]) and returns a transformed dictionary with every value in a list multiplied by its corresponding key. For example: d: dict[int, list[int]] = { 2:[1, 2] , 5:[3, 4] } dictTransform(d) # returns { 2:[2, 4] , 5:[15, 20] }\"\"\"\n",
    "\n",
    "def dictTransform(input: dict[int, list[int]]) -> dict[int, list[int]]:\n",
    "    \"\"\"takes in a dictionary of integer keys and values that are lists of integers,\n",
    "    returns a transformed dictionary with every value in a list multiplied by its corresponding key.\"\"\"\n",
    "    output: dict[int, list[int]] = {}\n",
    "    for key in input:\n",
    "        holding: list[int] = []\n",
    "        for number in input[key]:\n",
    "            holding.append(key * number)\n",
    "        output[key] = holding\n",
    "    return output\n",
    "\n",
    "d: dict[int, list[int]] = { 2:[1, 2] , 5:[3, 4] } \n",
    "dictTransform(d) # returns { 2:[2, 4] , 5:[15, 20] }\n"
   ]
  },
  {
   "cell_type": "code",
   "execution_count": 16,
   "metadata": {},
   "outputs": [
    {
     "output_type": "execute_result",
     "data": {
      "text/plain": [
       "{2: [2, 4], 5: [15, 20]}"
      ]
     },
     "metadata": {},
     "execution_count": 16
    }
   ],
   "source": [
    "\"\"\"Kris Jordans solution\"\"\"\n",
    "def dictTransform(d: dict[int, list[int]]) -> dict[int, list[int]]:\n",
    "    \"\"\"Multiplies every value in a list by its corresponding key.\"\"\"\n",
    "    for key in d:\n",
    "        for i in range(len(d[key])):\n",
    "            d[key][i] *= key\n",
    "    return d\n",
    "\n",
    "\n",
    "d: dict[int, list[int]] = { 2:[1, 2] , 5:[3, 4] } \n",
    "dictTransform(d) # returns { 2:[2, 4] , 5:[15, 20] }"
   ]
  },
  {
   "source": [
    "# Function Writing 2"
   ],
   "cell_type": "markdown",
   "metadata": {}
  },
  {
   "cell_type": "code",
   "execution_count": 18,
   "metadata": {},
   "outputs": [
    {
     "output_type": "execute_result",
     "data": {
      "text/plain": [
       "[{3: 'r', 2: 'c'}, {1: 'kris'}, {9: 'h', 11: 't', 2: '!'}]"
      ]
     },
     "metadata": {},
     "execution_count": 18
    }
   ],
   "source": [
    "\"\"\"Write a function called listTransform that takes in a list of dictionaries (e.g. list[dict[int, str]]) and returns a transformed list with changes to every even-indexed dictionary. The even-indexed dictionaries should have the odd key values reduced to their first letter and even key values reduced to their last letter. For example: l: list[dict[int, str]] = [ { 3:‘roy’ , 2:‘unc’ } , { 1:‘kris’ } , { 9:‘hello’, 11:‘there’, 2:‘!!’ } ] listTransform(l) # returns [ { 3:‘r’ , 2:‘c’ } , { 1:‘kris’ } , { 9:‘h’, 11:‘t’, 2:‘!’} ]\"\"\"\n",
    "\n",
    "def listTransform(input: list[dict[int, str]]) -> list[dict[int, str]]:\n",
    "    \"\"\"that takes in a list of dictionaries and returns a transformed list with changes to every even-indexed dictionary. \n",
    "    The even-indexed dictionaries should have the odd key values reduced to their first letter and even key values reduced \n",
    "    to their last letter\"\"\"\n",
    "    output: list[dict[int, str]] = []\n",
    "    dictionary: dict[int, str] = {}\n",
    "    holding: str = \"\"\n",
    "\n",
    "    for i in range(len(input)):\n",
    "        if i % 2 == 0:\n",
    "            dictionary = {}\n",
    "            for key in input[i]:\n",
    "                if key % 2 == 0:\n",
    "                    holding = input[i][key]\n",
    "                    dictionary[key] = holding[len(holding) - 1]\n",
    "                else:\n",
    "                    holding = input[i][key]\n",
    "                    dictionary[key] = holding[0]\n",
    "            output.append(dictionary)\n",
    "        else:\n",
    "            output.append(input[i])\n",
    "    return output\n",
    "\n",
    "\n",
    "l: list[dict[int, str]] = [ { 3:'roy' , 2:'unc' } , { 1:'kris' } , { 9:'hello', 11:'there', 2:'!!' } ]\n",
    "listTransform(l) # returns [ { 3:‘r’ , 2:‘c’ } , { 1:‘kris’ } , { 9:‘h’, 11:‘t’, 2:‘!’} ]"
   ]
  },
  {
   "cell_type": "code",
   "execution_count": 17,
   "metadata": {},
   "outputs": [
    {
     "output_type": "execute_result",
     "data": {
      "text/plain": [
       "[{3: 'r', 2: 'c'}, {1: 'kris'}, {9: 'h', 11: 't', 2: '!'}]"
      ]
     },
     "metadata": {},
     "execution_count": 17
    }
   ],
   "source": [
    "\"\"\"Kris Jordans solution.\"\"\"\n",
    "def listTransform(l: list[dict[int, str]]) -> list[dict[int, str]]:\n",
    "    \"\"\"Returns a transformed list with changes to every even dictionary.\"\"\"\n",
    "    for i in range(0, len(l), 2):\n",
    "        for key in l[i]:\n",
    "            if key % 2 == 1:\n",
    "                l[i][key] = l[i][key][0]\n",
    "            else:\n",
    "                l[i][key] = l[i][key][len(l[i][key]) - 1]\n",
    "    return l\n",
    "\n",
    "\n",
    "l: list[dict[int, str]] = [ { 3:'roy' , 2:'unc' } , { 1:'kris' } , { 9:'hello', 11:'there', 2:'!!' } ]\n",
    "listTransform(l) # returns [ { 3:‘r’ , 2:‘c’ } , { 1:‘kris’ } , { 9:‘h’, 11:‘t’, 2:‘!’} ]"
   ]
  },
  {
   "source": [
    "# Diagramming 1"
   ],
   "cell_type": "markdown",
   "metadata": {}
  },
  {
   "cell_type": "code",
   "execution_count": 14,
   "metadata": {},
   "outputs": [
    {
     "output_type": "stream",
     "name": "stdout",
     "text": [
      "['Carlos']\n"
     ]
    }
   ],
   "source": [
    "def main() -> None:\n",
    "    \"\"\"Entrypoint for a program with using dictionaries and lists.\"\"\"\n",
    "    table: list[dict[str, str]] = [{\"name\":\"Alex\", \"age\":\"19\"}, {\"name\":\"Carlos\", \"age\":\"22\"}]\n",
    "    old_enough: list[str] = foo(table)\n",
    "    print(old_enough)\n",
    "\n",
    "\n",
    "def foo(table: list[dict[str, str]]) -> list[str]:\n",
    "    \"\"\"A silly function\"\"\"\n",
    "    over_21: list[str] = []\n",
    "    for row in table:\n",
    "        age: int = int(row[\"age\"])\n",
    "        if age >= 21:\n",
    "            over_21.append(row[\"name\"])\n",
    "    return over_21\n",
    "\n",
    "\n",
    "if __name__ == \"__main__\":\n",
    "    main()"
   ]
  },
  {
   "source": [
    "# Diagramming 2"
   ],
   "cell_type": "markdown",
   "metadata": {}
  },
  {
   "cell_type": "code",
   "execution_count": 23,
   "metadata": {},
   "outputs": [
    {
     "output_type": "stream",
     "name": "stdout",
     "text": [
      "{'a': [7051, 215], 'b': [27], 'c': [0, 0, 0]}\n"
     ]
    }
   ],
   "source": [
    "def main() -> None:\n",
    "    \"\"\"Entrypoint for a strange program that isn't very practical.\"\"\"\n",
    "    a_table: dict[str, list[int]] = {\"a\": [7051, 215], \"b\": [27]}\n",
    "    if fill(a_table, \"c\"):\n",
    "        for item in a_table[\"c\"]:\n",
    "            if a_table[\"a\"][0] > 1000:\n",
    "                item += 1\n",
    "    print(a_table)\n",
    "\n",
    "\n",
    "def fill(table: dict[str, list[int]], new: str) -> None:\n",
    "    \"\"\"A function.\"\"\"\n",
    "    if new not in table:\n",
    "        new_list: list[int] = []\n",
    "        for key in table:\n",
    "            for i in range(len(table[key])):\n",
    "                new_list.append(0)\n",
    "        table[new] = new_list\n",
    "        return True\n",
    "    else:\n",
    "        return False\n",
    "\n",
    "\n",
    "if __name__ == \"__main__\":\n",
    "    main()"
   ]
  },
  {
   "source": [
    "# Diagram 4 from ls20\n",
    "\n",
    "recursion on add()"
   ],
   "cell_type": "markdown",
   "metadata": {}
  },
  {
   "cell_type": "code",
   "execution_count": 1,
   "metadata": {},
   "outputs": [
    {
     "output_type": "stream",
     "name": "stdout",
     "text": [
      "Diagram 4\n",
      "6\n",
      "0\n"
     ]
    }
   ],
   "source": [
    "\"\"\"Diagram 4\"\"\"\n",
    "print(\"Diagram 4\")\n",
    "\n",
    "# practice problems\n",
    "def add(xs: list[int]) -> int:\n",
    "    if len(xs) == 0:\n",
    "        return 0\n",
    "    \n",
    "    else:\n",
    "        x: int = xs.pop()\n",
    "        y = add(xs)\n",
    "        return x + y\n",
    "\n",
    "nums: list[int] = [1,2,3]\n",
    "print(add(nums))\n",
    "print(len(nums))"
   ]
  },
  {
   "cell_type": "code",
   "execution_count": null,
   "metadata": {},
   "outputs": [],
   "source": []
  }
 ]
}