{
 "metadata": {
  "language_info": {
   "codemirror_mode": {
    "name": "ipython",
    "version": 3
   },
   "file_extension": ".py",
   "mimetype": "text/x-python",
   "name": "python",
   "nbconvert_exporter": "python",
   "pygments_lexer": "ipython3",
   "version": "3.9.1"
  },
  "orig_nbformat": 2,
  "kernelspec": {
   "name": "python3",
   "display_name": "Python 3.9.1 64-bit",
   "metadata": {
    "interpreter": {
     "hash": "4cd7ab41f5fca4b9b44701077e38c5ffd31fe66a6cab21e0214b68d958d0e462"
    }
   }
  }
 },
 "nbformat": 4,
 "nbformat_minor": 2,
 "cells": [
  {
   "source": [
    "# PJ01 - Choose Your Own Analysis\n",
    "\n",
    "# 10 points - First markdown cell in your notebook states your hypothesis or question of interest\n",
    "\n",
    "Borrowing some basic setup steps from ex04.data_wrangling.ipynb\n",
    "\n",
    "Step 1: Come up with a question you would like to explore.\n",
    "\n",
    "Step 2: Outline the steps needed to test this hypothesis or investigate this question.\n",
    "\n",
    "Step 3. Perform the data analysis\n",
    "\n",
    "Step 4: Evaluate your findings. Was your prediction correct? What can you learn from your results? Do your findings present any new questiosn for a future exploration?\n",
    "\n"
   ],
   "cell_type": "markdown",
   "metadata": {}
  },
  {
   "cell_type": "code",
   "execution_count": 11,
   "metadata": {},
   "outputs": [],
   "source": [
    "__author__ = \"730366999\""
   ]
  },
  {
   "source": [
    "Implementing the utility functions for this exercise in the `data_utils.py` file found in the `projects/pj01` directory. Since your Jupyter Notebook _kernel_ is running the entire time you are working on functions in `data_utils.py`, we will use a special extension to automatically reload any changes you make _and save_ in modules you import. The special conventions in the cell below are turning this feature on."
   ],
   "cell_type": "markdown",
   "metadata": {}
  },
  {
   "cell_type": "code",
   "execution_count": 12,
   "metadata": {},
   "outputs": [
    {
     "output_type": "stream",
     "name": "stdout",
     "text": [
      "Autoreload of imported modules enabled. Be sure to save your work in other modules!\n"
     ]
    }
   ],
   "source": [
    "%reload_ext autoreload\n",
    "%autoreload 2\n",
    "print(\"Autoreload of imported modules enabled. Be sure to save your work in other modules!\")"
   ]
  },
  {
   "source": [
    "Data files will be stored in the `data` directory of the workspace. This Notebook is located in `projects/pj01` directory. If you think of how to _navigate_ from this directory to the `data` directory, you would need to go \"two directories up\" and then \"into the `data` directory\". The constant `DATA_DIRECTORY` defined below uses the convention of two dots to refer to \"one directory up\", so it is a `str` that references the `data` directory _relative_ to this exercise's directory.\n",
    "\n",
    "Then, another constant is established referencing the path to the data file you will use to test your functions in this exercise."
   ],
   "cell_type": "markdown",
   "metadata": {}
  },
  {
   "cell_type": "code",
   "execution_count": 13,
   "metadata": {},
   "outputs": [],
   "source": [
    "DATA_DIRECTORY=\"../../data\"\n",
    "DATA_FILE_PATH=f\"{DATA_DIRECTORY}/survey.csv\""
   ]
  },
  {
   "source": [
    "# 25 points - Import and make use of the read_csv_rows, head, columnar, select, count functions from ex04."
   ],
   "cell_type": "markdown",
   "metadata": {}
  },
  {
   "cell_type": "code",
   "execution_count": 14,
   "metadata": {},
   "outputs": [
    {
     "output_type": "stream",
     "name": "stdout",
     "text": [
      "Data File Read: ../../data/survey.csv\n502 rows\n36 columns\nColumns names: dict_keys(['row_number', 'year', 'unc_status', 'comp_major', 'primary_major', 'prereqs', 'prior_exp', 'AP_Principles', 'AP_A', 'other_comp', 'prior_time', 'languages', 'residency', 'on_campus', 'international', 'section', 'lesson_time', 'sync_perf', 'all_sync', 'own_notes', 'own_examples', 'oh_visits', 'ls_effective', 'lsqs_effective', 'programming_effective', 'qz_effective', 'oh_effective', 'tutoring_effective', 'kaki_effective', 'pace', 'difficulty', 'understanding', 'interested', 'valuable', 'grade', 'would_recommend'])\n"
     ]
    }
   ],
   "source": [
    "from data_utils import read_csv_rows\n",
    "\n",
    "data_rows: list[dict[str, str]] = read_csv_rows(DATA_FILE_PATH)\n",
    "\n",
    "\n",
    "print(f\"Data File Read: {DATA_FILE_PATH}\")\n",
    "print(f\"{len(data_rows)} rows\")\n",
    "print(f\"{len(data_rows[0].keys())} columns\")\n",
    "print(f\"Columns names: {data_rows[0].keys()}\")"
   ]
  },
  {
   "source": [
    "## Convert lines of data to a column based datastructure."
   ],
   "cell_type": "markdown",
   "metadata": {}
  },
  {
   "cell_type": "code",
   "execution_count": 15,
   "metadata": {},
   "outputs": [
    {
     "output_type": "stream",
     "name": "stdout",
     "text": [
      "36 columns\nColumns names: dict_keys(['row_number', 'year', 'unc_status', 'comp_major', 'primary_major', 'prereqs', 'prior_exp', 'AP_Principles', 'AP_A', 'other_comp', 'prior_time', 'languages', 'residency', 'on_campus', 'international', 'section', 'lesson_time', 'sync_perf', 'all_sync', 'own_notes', 'own_examples', 'oh_visits', 'ls_effective', 'lsqs_effective', 'programming_effective', 'qz_effective', 'oh_effective', 'tutoring_effective', 'kaki_effective', 'pace', 'difficulty', 'understanding', 'interested', 'valuable', 'grade', 'would_recommend'])\n"
     ]
    }
   ],
   "source": [
    "from data_utils import columnar\n",
    "\n",
    "data_cols: dict[str, list[str]] = columnar(data_rows)\n",
    "\n",
    "if len(data_cols.keys()) == 0:\n",
    "    print(\"Complete your implementation of columnar in data_utils.py\")\n",
    "    print(\"Be sure to follow the guidelines above and save your work before re-evaluating!\")\n",
    "else:\n",
    "    print(f\"{len(data_cols.keys())} columns\")\n",
    "    print(f\"Columns names: {data_cols.keys()}\")"
   ]
  },
  {
   "source": [
    "### analyze some columns of data\n",
    "\n",
    "Pull out some columns."
   ],
   "cell_type": "markdown",
   "metadata": {}
  },
  {
   "cell_type": "code",
   "execution_count": 16,
   "metadata": {},
   "outputs": [
    {
     "output_type": "execute_result",
     "data": {
      "text/plain": [
       "'<table>\\n<thead>\\n<tr><th>primary_major    </th><th>prereqs                                                                       </th><th>prior_time                  </th><th>languages                                                                                   </th><th>grade  </th></tr>\\n</thead>\\n<tbody>\\n<tr><td>Public Health    </td><td>MATH 231, MATH 232, MATH 233, STOR 155                                        </td><td>1 month or so               </td><td>Python, R / Matlab / SAS, Other                                                             </td><td>A      </td></tr>\\n<tr><td>Statistics       </td><td>MATH 130, MATH 231, STOR 120, STOR 151                                        </td><td>None to less than one month!</td><td>Python                                                                                      </td><td>B      </td></tr>\\n<tr><td>Statistics       </td><td>MATH 130, MATH 231, STOR 120, STOR 151                                        </td><td>None to less than one month!</td><td>Python                                                                                      </td><td>B      </td></tr>\\n<tr><td>Sociology        </td><td>MATH 231, MATH 232, MATH 233, MATH 347, MATH 381, STOR 155                    </td><td>None to less than one month!</td><td>Python, Java / C#, R / Matlab / SAS, HTML / CSS, SQL                                        </td><td>A      </td></tr>\\n<tr><td>Computer Science </td><td>MATH 129P, MATH 231, MATH 232, MATH 233, STOR 120, STOR 155                   </td><td>1 month or so               </td><td>Python, Java / C#, BASIC                                                                    </td><td>A      </td></tr>\\n<tr><td>Physics          </td><td>MATH 231, MATH 232, MATH 233, MATH 347, MATH 381                              </td><td>7-12 months                 </td><td>Python, Java / C#, C / C++, JavaScript / TypeScript, R / Matlab / SAS, HTML / CSS, SQL, Bash</td><td>A      </td></tr>\\n<tr><td>Economics        </td><td>MATH 233, MATH 381                                                            </td><td>None to less than one month!</td><td>Python, Java / C#, R / Matlab / SAS                                                         </td><td>A      </td></tr>\\n<tr><td>Psychology       </td><td>MATH 231, PSYC 210, STOR 155                                                  </td><td>None to less than one month!</td><td>None                                                                                        </td><td>C      </td></tr>\\n<tr><td>Math             </td><td>MATH 130, MATH 231, MATH 232, MATH 233, MATH 347, MATH 381, PSYC 210, STOR 155</td><td>None to less than one month!</td><td>Python, Java / C#                                                                           </td><td>B      </td></tr>\\n<tr><td>Political Science</td><td>MATH 129P, MATH 231, STOR 151                                                 </td><td>None to less than one month!</td><td>Python, R / Matlab / SAS, HTML / CSS                                                        </td><td>A      </td></tr>\\n</tbody>\\n</table>'"
      ],
      "text/html": "<table>\n<thead>\n<tr><th>primary_major    </th><th>prereqs                                                                       </th><th>prior_time                  </th><th>languages                                                                                   </th><th>grade  </th></tr>\n</thead>\n<tbody>\n<tr><td>Public Health    </td><td>MATH 231, MATH 232, MATH 233, STOR 155                                        </td><td>1 month or so               </td><td>Python, R / Matlab / SAS, Other                                                             </td><td>A      </td></tr>\n<tr><td>Statistics       </td><td>MATH 130, MATH 231, STOR 120, STOR 151                                        </td><td>None to less than one month!</td><td>Python                                                                                      </td><td>B      </td></tr>\n<tr><td>Statistics       </td><td>MATH 130, MATH 231, STOR 120, STOR 151                                        </td><td>None to less than one month!</td><td>Python                                                                                      </td><td>B      </td></tr>\n<tr><td>Sociology        </td><td>MATH 231, MATH 232, MATH 233, MATH 347, MATH 381, STOR 155                    </td><td>None to less than one month!</td><td>Python, Java / C#, R / Matlab / SAS, HTML / CSS, SQL                                        </td><td>A      </td></tr>\n<tr><td>Computer Science </td><td>MATH 129P, MATH 231, MATH 232, MATH 233, STOR 120, STOR 155                   </td><td>1 month or so               </td><td>Python, Java / C#, BASIC                                                                    </td><td>A      </td></tr>\n<tr><td>Physics          </td><td>MATH 231, MATH 232, MATH 233, MATH 347, MATH 381                              </td><td>7-12 months                 </td><td>Python, Java / C#, C / C++, JavaScript / TypeScript, R / Matlab / SAS, HTML / CSS, SQL, Bash</td><td>A      </td></tr>\n<tr><td>Economics        </td><td>MATH 233, MATH 381                                                            </td><td>None to less than one month!</td><td>Python, Java / C#, R / Matlab / SAS                                                         </td><td>A      </td></tr>\n<tr><td>Psychology       </td><td>MATH 231, PSYC 210, STOR 155                                                  </td><td>None to less than one month!</td><td>None                                                                                        </td><td>C      </td></tr>\n<tr><td>Math             </td><td>MATH 130, MATH 231, MATH 232, MATH 233, MATH 347, MATH 381, PSYC 210, STOR 155</td><td>None to less than one month!</td><td>Python, Java / C#                                                                           </td><td>B      </td></tr>\n<tr><td>Political Science</td><td>MATH 129P, MATH 231, STOR 151                                                 </td><td>None to less than one month!</td><td>Python, R / Matlab / SAS, HTML / CSS                                                        </td><td>A      </td></tr>\n</tbody>\n</table>"
     },
     "metadata": {},
     "execution_count": 16
    }
   ],
   "source": [
    "from data_utils import select, head, count\n",
    "from tabulate import tabulate\n",
    "\n",
    "\n",
    "selected_data: dict[str, list[str]] = select(data_cols, [\"primary_major\", \"prereqs\", \"prior_time\", \"languages\", \"grade\"])\n",
    "\n",
    "tabulate(head(selected_data, 10), selected_data.keys(), \"html\")"
   ]
  },
  {
   "source": [
    "### Statistics of comma seperated list of values like languages or prereqs\n",
    "\n",
    "This will give a distribution of how many students have taken a language or prereq."
   ],
   "cell_type": "markdown",
   "metadata": {}
  },
  {
   "cell_type": "code",
   "execution_count": 28,
   "metadata": {
    "tags": []
   },
   "outputs": [
    {
     "output_type": "stream",
     "name": "stdout",
     "text": [
      "Distribution of prereqs taken:\n474 students have taken MATH 231\n288 students have taken MATH 232\n157 students have taken MATH 233\n238 students have taken STOR 155\n159 students have taken MATH 130\n20 students have taken STOR 120\n66 students have taken STOR 151\n33 students have taken MATH 347\n71 students have taken MATH 381\n224 students have taken MATH 129P\n80 students have taken PSYC 210\n20 students have taken STOR 113\n5 students have taken STOR 112\n28 students have taken MATH 152\n23 students have taken MATH 210\n4 students have taken PHIL 155 STOR 155\n3 students have taken PSYC 215\n1 students have taken PHIL 155 - Truth and Proof\n1 students have taken PHIL 155 STOR 151\n\n\n\nDistribution of languages taken:\n163 students have taken Python\n40 students have taken R / Matlab / SAS\n6 students have taken Other\n60 students have taken Java / C#\n48 students have taken HTML / CSS\n11 students have taken SQL\n7 students have taken BASIC\n25 students have taken C / C++\n37 students have taken JavaScript / TypeScript\n7 students have taken Bash\n332 students have taken None\n1 students have taken Other \n1 students have taken LISP / Scheme / Racket\n"
     ]
    }
   ],
   "source": [
    "\n",
    "from data_utils import csv_in_column_distribution\n",
    "\n",
    "print(\"Distribution of prereqs taken:\")\n",
    "list_csv: list[str] = selected_data[\"prereqs\"]\n",
    "\n",
    "breakdown: dict[str, int] = csv_in_column_distribution(list_csv)\n",
    "\n",
    "for item in breakdown.keys():\n",
    "    print(f\"{breakdown[item]} students have taken {item}\")\n",
    "\n",
    "print(\"\\n\\n\\nDistribution of languages taken:\")\n",
    "\n",
    "list_csv = selected_data[\"languages\"]\n",
    "\n",
    "breakdown: dict[str, int] = csv_in_column_distribution(list_csv)\n",
    "\n",
    "for item in breakdown.keys():\n",
    "    print(f\"{breakdown[item]} students have taken {item}\")\n",
    "\n",
    "\n",
    "\n"
   ]
  },
  {
   "source": [
    "# 25 points - Define at least one function that produces a mask based on some criteria. Reminder: For our purposes, a mask is a list[bool]. To get credit for this requirement, it must be a different function than the less_than one defined in this video. You are free to make use of the less_than function in your analysis, but you’ll need to come up with at least one function of your own."
   ],
   "cell_type": "markdown",
   "metadata": {}
  },
  {
   "source": [
    "# 10 points - Filter some data using this mask. You are free to use the masked function defined in class for this requirement."
   ],
   "cell_type": "markdown",
   "metadata": {}
  },
  {
   "source": [
    "## 10 points - Above and beyond! Produce 2 visuals. Could be a data table or a plot. The libraries mentioned in this video are a good place to start! Feel free to explore what is out there. (Note: above and beyond points are included in the total score. If you choose not to do this, you can still earn 90% credit, which is an A)"
   ],
   "cell_type": "markdown",
   "metadata": {}
  },
  {
   "source": [
    "# 10 points - Final markdown cell is a conclusion paragraph summarizing your findings. Were you able to answer your question or prove your hypothesis? It is totally OK (and part of the process) to not get what you initially expected. You can still get full credit even if you end up contradicting your hypothesis :)"
   ],
   "cell_type": "markdown",
   "metadata": {}
  }
 ]
}