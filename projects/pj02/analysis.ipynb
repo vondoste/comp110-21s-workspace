{
 "metadata": {
  "language_info": {
   "codemirror_mode": {
    "name": "ipython",
    "version": 3
   },
   "file_extension": ".py",
   "mimetype": "text/x-python",
   "name": "python",
   "nbconvert_exporter": "python",
   "pygments_lexer": "ipython3",
   "version": "3.9.1"
  },
  "orig_nbformat": 2,
  "kernelspec": {
   "name": "python391jvsc74a57bd04cd7ab41f5fca4b9b44701077e38c5ffd31fe66a6cab21e0214b68d958d0e462",
   "display_name": "Python 3.9.1 64-bit"
  },
  "metadata": {
   "interpreter": {
    "hash": "4cd7ab41f5fca4b9b44701077e38c5ffd31fe66a6cab21e0214b68d958d0e462"
   }
  }
 },
 "nbformat": 4,
 "nbformat_minor": 2,
 "cells": [
  {
   "source": [
    "# Hypothesis: Countries who prioritize education spending will have a larger percentage of their children start primary school.\n",
    "\n",
    "I will use the percentage of government expenditure used on education (SE.XPD.TOTL.GB.ZS) as my independent variable, and the percentage of the school age population that begins the first grade (SE.PRM.GINT.ZS) as my dependent variable for my regression analysis.\n",
    "\n",
    "SE.XPD.TOTL.GB.ZS - General government expenditure on education (current, capital, and transfers) is expressed as a percentage of total general government expenditure on all sectors (including health, education, social services, etc.). It includes expenditure funded by transfers from international sources to government. General government usually refers to local, regional and central governments.\n",
    "\n",
    "\n",
    "SE.PRM.GINT.ZS - Gross intake ratio in first grade of primary education is the number of new entrants in the first grade of primary education regardless of age, expressed as a percentage of the population of the official primary entrance age.  Because the gross intake ratio includes all new entrants regardless of age, it can exceed 100 percent in some situations, such as immediately after fees have been abolished or when the number of reenrolled children is large.\n",
    "\n",
    "We will be exploring for a coorelation betwen two indicators that are given named constants below.  This first cell will also establish the _author_ variable and import the pandas library as pd."
   ],
   "cell_type": "markdown",
   "metadata": {}
  },
  {
   "cell_type": "code",
   "execution_count": 8,
   "metadata": {},
   "outputs": [],
   "source": [
    "__author__ = \"730366999\"\n",
    "INDICATOR_1: str = \"SE.XPD.TOTL.GB.ZS\"\n",
    "INDICATOR_2: str = \"SE.PRM.GINT.ZS\"\n",
    "\n",
    "import pandas as pd"
   ]
  },
  {
   "source": [
    "We will us pandas read_csv method to the read databank_education_2018.csv file from our data directory and return a pandas DataFrame object that will be pointed to by the variable data_table."
   ],
   "cell_type": "markdown",
   "metadata": {}
  },
  {
   "cell_type": "code",
   "execution_count": 10,
   "metadata": {},
   "outputs": [],
   "source": [
    "data_table = pd.read_csv(\"../../data/databank_education_2018.csv\")"
   ]
  },
  {
   "source": [
    "Here we use the shape attribute to display the geometry of our DataFrame object (number of rows and columns) and the head method to see a preview of the first 10 rows of our table.  There are 94 columns in our data_table object, and 244 rows.  The output shown below in the Jupyter notebook doesn't let you see all the columns."
   ],
   "cell_type": "markdown",
   "metadata": {}
  },
  {
   "cell_type": "code",
   "execution_count": 12,
   "metadata": {},
   "outputs": [
    {
     "output_type": "stream",
     "name": "stdout",
     "text": [
      "(244, 94)\n"
     ]
    },
    {
     "output_type": "execute_result",
     "data": {
      "text/plain": [
       "               Country  SE.COM.DURS  SE.ENR.PRIM.FM.ZS  SE.ENR.PRSC.FM.ZS  \\\n",
       "0          Afghanistan          9.0            0.66691            0.63602   \n",
       "1              Albania          9.0            1.03765            1.01730   \n",
       "2              Algeria         10.0            0.95499                NaN   \n",
       "3              Andorra         10.0                NaN                NaN   \n",
       "4               Angola          6.0                NaN                NaN   \n",
       "5  Antigua and Barbuda         11.0            0.99208            0.97924   \n",
       "6           Arab World          9.0            0.94617            0.94833   \n",
       "7            Argentina         14.0                NaN                NaN   \n",
       "8              Armenia         12.0            0.99961            1.02283   \n",
       "9                Aruba         13.0                NaN                NaN   \n",
       "\n",
       "   SE.ENR.SECO.FM.ZS  SE.ENR.TERT.FM.ZS  SE.PRE.DURS  SE.PRE.ENRL.TC.ZS  \\\n",
       "0            0.57098            0.34523          1.0                NaN   \n",
       "1            1.00539            1.36299          5.0           17.09409   \n",
       "2                NaN            1.39722          1.0                NaN   \n",
       "3                NaN                NaN          3.0           13.27711   \n",
       "4                NaN                NaN          5.0                NaN   \n",
       "5            0.96286                NaN          5.0                NaN   \n",
       "6            0.95186            1.09935          3.0           21.16757   \n",
       "7                NaN                NaN          6.0                NaN   \n",
       "8            1.03762            1.24788          3.0            6.27090   \n",
       "9                NaN                NaN          2.0                NaN   \n",
       "\n",
       "   SE.PRE.ENRR  SE.PRE.ENRR.FE  ...  SH.DYN.1014  SH.DYN.1519  SH.DYN.2024  \\\n",
       "0          NaN             NaN  ...     2.000000    13.800000    17.600000   \n",
       "1    80.498734       80.790977  ...     1.100000     1.800000     1.900000   \n",
       "2          NaN             NaN  ...     1.700000     2.700000     3.300000   \n",
       "3          NaN             NaN  ...     0.500000     1.400000     2.100000   \n",
       "4          NaN             NaN  ...     6.400000    13.100000    19.900000   \n",
       "5    70.253601       74.025070  ...     1.000000     2.500000     3.200000   \n",
       "6    27.001801       26.855440  ...     2.923226     6.268086     8.017785   \n",
       "7          NaN             NaN  ...     1.100000     3.500000     4.900000   \n",
       "8    38.021290       39.659691  ...     1.000000     2.300000     2.700000   \n",
       "9          NaN             NaN  ...          NaN          NaN          NaN   \n",
       "\n",
       "   SL.TLF.TOTL.FE.ZS  SL.TLF.TOTL.IN  SL.UEM.TOTL.FE.ZS  SL.UEM.TOTL.MA.ZS  \\\n",
       "0          21.247021      10319282.0          13.920000          10.290000   \n",
       "1          42.190687       1400072.0          11.870000          12.620000   \n",
       "2          20.126974      12589369.0          20.490000           9.720000   \n",
       "3                NaN             NaN                NaN                NaN   \n",
       "4          50.202910      12705650.0           7.280000           6.720000   \n",
       "5                NaN             NaN                NaN                NaN   \n",
       "6          20.368759     134761988.0          19.903642           7.788688   \n",
       "7          43.001857      20551682.0          10.540000           8.230000   \n",
       "8          44.231575       1245626.0          20.400000          17.830000   \n",
       "9                NaN             NaN                NaN                NaN   \n",
       "\n",
       "   SL.UEM.TOTL.ZS  SP.POP.0014.TO.ZS  SP.POP.1564.TO.ZS  \n",
       "0       11.060000          43.090176          54.324898  \n",
       "1       12.300000          17.672874          68.582390  \n",
       "2       11.890000          30.148679          63.488825  \n",
       "3             NaN                NaN                NaN  \n",
       "4        7.000000          46.808925          50.974702  \n",
       "5             NaN          22.081092          69.119083  \n",
       "6       10.256798          32.780436          62.661687  \n",
       "7        9.220000          24.760934          64.121277  \n",
       "8       18.969999          20.633422          68.112760  \n",
       "9             NaN          17.802447          68.646606  \n",
       "\n",
       "[10 rows x 94 columns]"
      ],
      "text/html": "<div>\n<style scoped>\n    .dataframe tbody tr th:only-of-type {\n        vertical-align: middle;\n    }\n\n    .dataframe tbody tr th {\n        vertical-align: top;\n    }\n\n    .dataframe thead th {\n        text-align: right;\n    }\n</style>\n<table border=\"1\" class=\"dataframe\">\n  <thead>\n    <tr style=\"text-align: right;\">\n      <th></th>\n      <th>Country</th>\n      <th>SE.COM.DURS</th>\n      <th>SE.ENR.PRIM.FM.ZS</th>\n      <th>SE.ENR.PRSC.FM.ZS</th>\n      <th>SE.ENR.SECO.FM.ZS</th>\n      <th>SE.ENR.TERT.FM.ZS</th>\n      <th>SE.PRE.DURS</th>\n      <th>SE.PRE.ENRL.TC.ZS</th>\n      <th>SE.PRE.ENRR</th>\n      <th>SE.PRE.ENRR.FE</th>\n      <th>...</th>\n      <th>SH.DYN.1014</th>\n      <th>SH.DYN.1519</th>\n      <th>SH.DYN.2024</th>\n      <th>SL.TLF.TOTL.FE.ZS</th>\n      <th>SL.TLF.TOTL.IN</th>\n      <th>SL.UEM.TOTL.FE.ZS</th>\n      <th>SL.UEM.TOTL.MA.ZS</th>\n      <th>SL.UEM.TOTL.ZS</th>\n      <th>SP.POP.0014.TO.ZS</th>\n      <th>SP.POP.1564.TO.ZS</th>\n    </tr>\n  </thead>\n  <tbody>\n    <tr>\n      <th>0</th>\n      <td>Afghanistan</td>\n      <td>9.0</td>\n      <td>0.66691</td>\n      <td>0.63602</td>\n      <td>0.57098</td>\n      <td>0.34523</td>\n      <td>1.0</td>\n      <td>NaN</td>\n      <td>NaN</td>\n      <td>NaN</td>\n      <td>...</td>\n      <td>2.000000</td>\n      <td>13.800000</td>\n      <td>17.600000</td>\n      <td>21.247021</td>\n      <td>10319282.0</td>\n      <td>13.920000</td>\n      <td>10.290000</td>\n      <td>11.060000</td>\n      <td>43.090176</td>\n      <td>54.324898</td>\n    </tr>\n    <tr>\n      <th>1</th>\n      <td>Albania</td>\n      <td>9.0</td>\n      <td>1.03765</td>\n      <td>1.01730</td>\n      <td>1.00539</td>\n      <td>1.36299</td>\n      <td>5.0</td>\n      <td>17.09409</td>\n      <td>80.498734</td>\n      <td>80.790977</td>\n      <td>...</td>\n      <td>1.100000</td>\n      <td>1.800000</td>\n      <td>1.900000</td>\n      <td>42.190687</td>\n      <td>1400072.0</td>\n      <td>11.870000</td>\n      <td>12.620000</td>\n      <td>12.300000</td>\n      <td>17.672874</td>\n      <td>68.582390</td>\n    </tr>\n    <tr>\n      <th>2</th>\n      <td>Algeria</td>\n      <td>10.0</td>\n      <td>0.95499</td>\n      <td>NaN</td>\n      <td>NaN</td>\n      <td>1.39722</td>\n      <td>1.0</td>\n      <td>NaN</td>\n      <td>NaN</td>\n      <td>NaN</td>\n      <td>...</td>\n      <td>1.700000</td>\n      <td>2.700000</td>\n      <td>3.300000</td>\n      <td>20.126974</td>\n      <td>12589369.0</td>\n      <td>20.490000</td>\n      <td>9.720000</td>\n      <td>11.890000</td>\n      <td>30.148679</td>\n      <td>63.488825</td>\n    </tr>\n    <tr>\n      <th>3</th>\n      <td>Andorra</td>\n      <td>10.0</td>\n      <td>NaN</td>\n      <td>NaN</td>\n      <td>NaN</td>\n      <td>NaN</td>\n      <td>3.0</td>\n      <td>13.27711</td>\n      <td>NaN</td>\n      <td>NaN</td>\n      <td>...</td>\n      <td>0.500000</td>\n      <td>1.400000</td>\n      <td>2.100000</td>\n      <td>NaN</td>\n      <td>NaN</td>\n      <td>NaN</td>\n      <td>NaN</td>\n      <td>NaN</td>\n      <td>NaN</td>\n      <td>NaN</td>\n    </tr>\n    <tr>\n      <th>4</th>\n      <td>Angola</td>\n      <td>6.0</td>\n      <td>NaN</td>\n      <td>NaN</td>\n      <td>NaN</td>\n      <td>NaN</td>\n      <td>5.0</td>\n      <td>NaN</td>\n      <td>NaN</td>\n      <td>NaN</td>\n      <td>...</td>\n      <td>6.400000</td>\n      <td>13.100000</td>\n      <td>19.900000</td>\n      <td>50.202910</td>\n      <td>12705650.0</td>\n      <td>7.280000</td>\n      <td>6.720000</td>\n      <td>7.000000</td>\n      <td>46.808925</td>\n      <td>50.974702</td>\n    </tr>\n    <tr>\n      <th>5</th>\n      <td>Antigua and Barbuda</td>\n      <td>11.0</td>\n      <td>0.99208</td>\n      <td>0.97924</td>\n      <td>0.96286</td>\n      <td>NaN</td>\n      <td>5.0</td>\n      <td>NaN</td>\n      <td>70.253601</td>\n      <td>74.025070</td>\n      <td>...</td>\n      <td>1.000000</td>\n      <td>2.500000</td>\n      <td>3.200000</td>\n      <td>NaN</td>\n      <td>NaN</td>\n      <td>NaN</td>\n      <td>NaN</td>\n      <td>NaN</td>\n      <td>22.081092</td>\n      <td>69.119083</td>\n    </tr>\n    <tr>\n      <th>6</th>\n      <td>Arab World</td>\n      <td>9.0</td>\n      <td>0.94617</td>\n      <td>0.94833</td>\n      <td>0.95186</td>\n      <td>1.09935</td>\n      <td>3.0</td>\n      <td>21.16757</td>\n      <td>27.001801</td>\n      <td>26.855440</td>\n      <td>...</td>\n      <td>2.923226</td>\n      <td>6.268086</td>\n      <td>8.017785</td>\n      <td>20.368759</td>\n      <td>134761988.0</td>\n      <td>19.903642</td>\n      <td>7.788688</td>\n      <td>10.256798</td>\n      <td>32.780436</td>\n      <td>62.661687</td>\n    </tr>\n    <tr>\n      <th>7</th>\n      <td>Argentina</td>\n      <td>14.0</td>\n      <td>NaN</td>\n      <td>NaN</td>\n      <td>NaN</td>\n      <td>NaN</td>\n      <td>6.0</td>\n      <td>NaN</td>\n      <td>NaN</td>\n      <td>NaN</td>\n      <td>...</td>\n      <td>1.100000</td>\n      <td>3.500000</td>\n      <td>4.900000</td>\n      <td>43.001857</td>\n      <td>20551682.0</td>\n      <td>10.540000</td>\n      <td>8.230000</td>\n      <td>9.220000</td>\n      <td>24.760934</td>\n      <td>64.121277</td>\n    </tr>\n    <tr>\n      <th>8</th>\n      <td>Armenia</td>\n      <td>12.0</td>\n      <td>0.99961</td>\n      <td>1.02283</td>\n      <td>1.03762</td>\n      <td>1.24788</td>\n      <td>3.0</td>\n      <td>6.27090</td>\n      <td>38.021290</td>\n      <td>39.659691</td>\n      <td>...</td>\n      <td>1.000000</td>\n      <td>2.300000</td>\n      <td>2.700000</td>\n      <td>44.231575</td>\n      <td>1245626.0</td>\n      <td>20.400000</td>\n      <td>17.830000</td>\n      <td>18.969999</td>\n      <td>20.633422</td>\n      <td>68.112760</td>\n    </tr>\n    <tr>\n      <th>9</th>\n      <td>Aruba</td>\n      <td>13.0</td>\n      <td>NaN</td>\n      <td>NaN</td>\n      <td>NaN</td>\n      <td>NaN</td>\n      <td>2.0</td>\n      <td>NaN</td>\n      <td>NaN</td>\n      <td>NaN</td>\n      <td>...</td>\n      <td>NaN</td>\n      <td>NaN</td>\n      <td>NaN</td>\n      <td>NaN</td>\n      <td>NaN</td>\n      <td>NaN</td>\n      <td>NaN</td>\n      <td>NaN</td>\n      <td>17.802447</td>\n      <td>68.646606</td>\n    </tr>\n  </tbody>\n</table>\n<p>10 rows × 94 columns</p>\n</div>"
     },
     "metadata": {},
     "execution_count": 12
    }
   ],
   "source": [
    "print(data_table.shape)\n",
    "data_table.head(10)"
   ]
  },
  {
   "source": [
    "We will create a new pandas DataFrame by indexing data_table with a list of the columns that we want to be in the new DataFrame, and assign this new object to the selected_data variable.  The list of columns we use contains the string \"Country\" and our two named constants set up in the first code cell.  Then we will preview the first 10 rows."
   ],
   "cell_type": "markdown",
   "metadata": {}
  },
  {
   "cell_type": "code",
   "execution_count": 13,
   "metadata": {},
   "outputs": [
    {
     "output_type": "execute_result",
     "data": {
      "text/plain": [
       "               Country  SE.XPD.TOTL.GB.ZS  SE.PRM.GINT.ZS\n",
       "0          Afghanistan                NaN       110.77532\n",
       "1              Albania                NaN       109.09234\n",
       "2              Algeria                NaN       101.88002\n",
       "3              Andorra          19.323059             NaN\n",
       "4               Angola                NaN             NaN\n",
       "5  Antigua and Barbuda                NaN        98.51904\n",
       "6           Arab World                NaN        96.21463\n",
       "7            Argentina                NaN             NaN\n",
       "8              Armenia                NaN        91.89196\n",
       "9                Aruba                NaN             NaN"
      ],
      "text/html": "<div>\n<style scoped>\n    .dataframe tbody tr th:only-of-type {\n        vertical-align: middle;\n    }\n\n    .dataframe tbody tr th {\n        vertical-align: top;\n    }\n\n    .dataframe thead th {\n        text-align: right;\n    }\n</style>\n<table border=\"1\" class=\"dataframe\">\n  <thead>\n    <tr style=\"text-align: right;\">\n      <th></th>\n      <th>Country</th>\n      <th>SE.XPD.TOTL.GB.ZS</th>\n      <th>SE.PRM.GINT.ZS</th>\n    </tr>\n  </thead>\n  <tbody>\n    <tr>\n      <th>0</th>\n      <td>Afghanistan</td>\n      <td>NaN</td>\n      <td>110.77532</td>\n    </tr>\n    <tr>\n      <th>1</th>\n      <td>Albania</td>\n      <td>NaN</td>\n      <td>109.09234</td>\n    </tr>\n    <tr>\n      <th>2</th>\n      <td>Algeria</td>\n      <td>NaN</td>\n      <td>101.88002</td>\n    </tr>\n    <tr>\n      <th>3</th>\n      <td>Andorra</td>\n      <td>19.323059</td>\n      <td>NaN</td>\n    </tr>\n    <tr>\n      <th>4</th>\n      <td>Angola</td>\n      <td>NaN</td>\n      <td>NaN</td>\n    </tr>\n    <tr>\n      <th>5</th>\n      <td>Antigua and Barbuda</td>\n      <td>NaN</td>\n      <td>98.51904</td>\n    </tr>\n    <tr>\n      <th>6</th>\n      <td>Arab World</td>\n      <td>NaN</td>\n      <td>96.21463</td>\n    </tr>\n    <tr>\n      <th>7</th>\n      <td>Argentina</td>\n      <td>NaN</td>\n      <td>NaN</td>\n    </tr>\n    <tr>\n      <th>8</th>\n      <td>Armenia</td>\n      <td>NaN</td>\n      <td>91.89196</td>\n    </tr>\n    <tr>\n      <th>9</th>\n      <td>Aruba</td>\n      <td>NaN</td>\n      <td>NaN</td>\n    </tr>\n  </tbody>\n</table>\n</div>"
     },
     "metadata": {},
     "execution_count": 13
    }
   ],
   "source": [
    "selected_data = data_table[[\"Country\", INDICATOR_1, INDICATOR_2]]\n",
    "selected_data.head(10)\n"
   ]
  },
  {
   "source": [
    "We will use the notna method to build a new DataFrame that contains only the rows from selected_data that have numbers in both of the indicator columns that we have selected.  This new DataFrame will be pointed to by the variable complete_data.  We print the output of the shape method to see how many rows of data we have left with both values populated, and then use the head method to display the first 10 rows of the complete_data DataFrame object."
   ],
   "cell_type": "markdown",
   "metadata": {}
  },
  {
   "cell_type": "code",
   "execution_count": 14,
   "metadata": {},
   "outputs": [
    {
     "output_type": "stream",
     "name": "stdout",
     "text": [
      "(52, 3)\n"
     ]
    },
    {
     "output_type": "execute_result",
     "data": {
      "text/plain": [
       "                   Country  SE.XPD.TOTL.GB.ZS  SE.PRM.GINT.ZS\n",
       "12              Azerbaijan           7.435460        94.85142\n",
       "19                  Belize          21.365290        98.49042\n",
       "20                   Benin          17.709181       146.92009\n",
       "22                  Bhutan          22.766460       105.14864\n",
       "30            Burkina Faso          22.661169       111.09734\n",
       "31                 Burundi          19.919870       128.05538\n",
       "33                Cambodia           8.838980       104.57965\n",
       "34                Cameroon          16.883160       116.76714\n",
       "36  Caribbean small states          18.584000        89.93744\n",
       "42                Colombia          15.982620       113.54630"
      ],
      "text/html": "<div>\n<style scoped>\n    .dataframe tbody tr th:only-of-type {\n        vertical-align: middle;\n    }\n\n    .dataframe tbody tr th {\n        vertical-align: top;\n    }\n\n    .dataframe thead th {\n        text-align: right;\n    }\n</style>\n<table border=\"1\" class=\"dataframe\">\n  <thead>\n    <tr style=\"text-align: right;\">\n      <th></th>\n      <th>Country</th>\n      <th>SE.XPD.TOTL.GB.ZS</th>\n      <th>SE.PRM.GINT.ZS</th>\n    </tr>\n  </thead>\n  <tbody>\n    <tr>\n      <th>12</th>\n      <td>Azerbaijan</td>\n      <td>7.435460</td>\n      <td>94.85142</td>\n    </tr>\n    <tr>\n      <th>19</th>\n      <td>Belize</td>\n      <td>21.365290</td>\n      <td>98.49042</td>\n    </tr>\n    <tr>\n      <th>20</th>\n      <td>Benin</td>\n      <td>17.709181</td>\n      <td>146.92009</td>\n    </tr>\n    <tr>\n      <th>22</th>\n      <td>Bhutan</td>\n      <td>22.766460</td>\n      <td>105.14864</td>\n    </tr>\n    <tr>\n      <th>30</th>\n      <td>Burkina Faso</td>\n      <td>22.661169</td>\n      <td>111.09734</td>\n    </tr>\n    <tr>\n      <th>31</th>\n      <td>Burundi</td>\n      <td>19.919870</td>\n      <td>128.05538</td>\n    </tr>\n    <tr>\n      <th>33</th>\n      <td>Cambodia</td>\n      <td>8.838980</td>\n      <td>104.57965</td>\n    </tr>\n    <tr>\n      <th>34</th>\n      <td>Cameroon</td>\n      <td>16.883160</td>\n      <td>116.76714</td>\n    </tr>\n    <tr>\n      <th>36</th>\n      <td>Caribbean small states</td>\n      <td>18.584000</td>\n      <td>89.93744</td>\n    </tr>\n    <tr>\n      <th>42</th>\n      <td>Colombia</td>\n      <td>15.982620</td>\n      <td>113.54630</td>\n    </tr>\n  </tbody>\n</table>\n</div>"
     },
     "metadata": {},
     "execution_count": 14
    }
   ],
   "source": [
    "complete_data = selected_data[selected_data[INDICATOR_1].notna() & selected_data[INDICATOR_2].notna()]\n",
    "print(complete_data.shape)\n",
    "complete_data.head(10)\n"
   ]
  },
  {
   "source": [
    "We will use the complete_data DataFrames sort_values method to produce a new DataFrame object that has the rows sorted in descending order by one of the indicators.  The variable sorted_data will point to this."
   ],
   "cell_type": "markdown",
   "metadata": {}
  },
  {
   "cell_type": "code",
   "execution_count": 15,
   "metadata": {},
   "outputs": [
    {
     "output_type": "execute_result",
     "data": {
      "text/plain": [
       "          Country  SE.XPD.TOTL.GB.ZS  SE.PRM.GINT.ZS\n",
       "193  Sierra Leone          32.473221       171.84957\n",
       "46     Costa Rica          26.086670       110.77016\n",
       "84      Guatemala          23.749540       105.26949\n",
       "22         Bhutan          22.766460       105.14864\n",
       "30   Burkina Faso          22.661169       111.09734\n",
       "221          Togo          21.769091       141.65741\n",
       "190       Senegal          21.529409        94.74565\n",
       "19         Belize          21.365290        98.49042\n",
       "218      Tanzania          20.560011       109.14532\n",
       "31        Burundi          19.919870       128.05538"
      ],
      "text/html": "<div>\n<style scoped>\n    .dataframe tbody tr th:only-of-type {\n        vertical-align: middle;\n    }\n\n    .dataframe tbody tr th {\n        vertical-align: top;\n    }\n\n    .dataframe thead th {\n        text-align: right;\n    }\n</style>\n<table border=\"1\" class=\"dataframe\">\n  <thead>\n    <tr style=\"text-align: right;\">\n      <th></th>\n      <th>Country</th>\n      <th>SE.XPD.TOTL.GB.ZS</th>\n      <th>SE.PRM.GINT.ZS</th>\n    </tr>\n  </thead>\n  <tbody>\n    <tr>\n      <th>193</th>\n      <td>Sierra Leone</td>\n      <td>32.473221</td>\n      <td>171.84957</td>\n    </tr>\n    <tr>\n      <th>46</th>\n      <td>Costa Rica</td>\n      <td>26.086670</td>\n      <td>110.77016</td>\n    </tr>\n    <tr>\n      <th>84</th>\n      <td>Guatemala</td>\n      <td>23.749540</td>\n      <td>105.26949</td>\n    </tr>\n    <tr>\n      <th>22</th>\n      <td>Bhutan</td>\n      <td>22.766460</td>\n      <td>105.14864</td>\n    </tr>\n    <tr>\n      <th>30</th>\n      <td>Burkina Faso</td>\n      <td>22.661169</td>\n      <td>111.09734</td>\n    </tr>\n    <tr>\n      <th>221</th>\n      <td>Togo</td>\n      <td>21.769091</td>\n      <td>141.65741</td>\n    </tr>\n    <tr>\n      <th>190</th>\n      <td>Senegal</td>\n      <td>21.529409</td>\n      <td>94.74565</td>\n    </tr>\n    <tr>\n      <th>19</th>\n      <td>Belize</td>\n      <td>21.365290</td>\n      <td>98.49042</td>\n    </tr>\n    <tr>\n      <th>218</th>\n      <td>Tanzania</td>\n      <td>20.560011</td>\n      <td>109.14532</td>\n    </tr>\n    <tr>\n      <th>31</th>\n      <td>Burundi</td>\n      <td>19.919870</td>\n      <td>128.05538</td>\n    </tr>\n  </tbody>\n</table>\n</div>"
     },
     "metadata": {},
     "execution_count": 15
    }
   ],
   "source": [
    "sorted_data = complete_data.sort_values(by = INDICATOR_1, ascending = False)\n",
    "sorted_data.head(10)"
   ]
  },
  {
   "source": [
    "We will use pandas to produce a scatter plot of INDICATOR_1 vs INDICATOR_2."
   ],
   "cell_type": "markdown",
   "metadata": {}
  },
  {
   "cell_type": "code",
   "execution_count": 16,
   "metadata": {},
   "outputs": [
    {
     "output_type": "execute_result",
     "data": {
      "text/plain": [
       "<AxesSubplot:xlabel='SE.XPD.TOTL.GB.ZS', ylabel='SE.PRM.GINT.ZS'>"
      ]
     },
     "metadata": {},
     "execution_count": 16
    },
    {
     "output_type": "display_data",
     "data": {
      "text/plain": "<Figure size 432x288 with 1 Axes>",
      "image/svg+xml": "<?xml version=\"1.0\" encoding=\"utf-8\" standalone=\"no\"?>\n<!DOCTYPE svg PUBLIC \"-//W3C//DTD SVG 1.1//EN\"\n  \"http://www.w3.org/Graphics/SVG/1.1/DTD/svg11.dtd\">\n<!-- Created with matplotlib (https://matplotlib.org/) -->\n<svg height=\"262.19625pt\" version=\"1.1\" viewBox=\"0 0 388.965625 262.19625\" width=\"388.965625pt\" xmlns=\"http://www.w3.org/2000/svg\" xmlns:xlink=\"http://www.w3.org/1999/xlink\">\n <metadata>\n  <rdf:RDF xmlns:cc=\"http://creativecommons.org/ns#\" xmlns:dc=\"http://purl.org/dc/elements/1.1/\" xmlns:rdf=\"http://www.w3.org/1999/02/22-rdf-syntax-ns#\">\n   <cc:Work>\n    <dc:type rdf:resource=\"http://purl.org/dc/dcmitype/StillImage\"/>\n    <dc:date>2021-04-29T15:00:07.073025</dc:date>\n    <dc:format>image/svg+xml</dc:format>\n    <dc:creator>\n     <cc:Agent>\n      <dc:title>Matplotlib v3.3.3, https://matplotlib.org/</dc:title>\n     </cc:Agent>\n    </dc:creator>\n   </cc:Work>\n  </rdf:RDF>\n </metadata>\n <defs>\n  <style type=\"text/css\">*{stroke-linecap:butt;stroke-linejoin:round;}</style>\n </defs>\n <g id=\"figure_1\">\n  <g id=\"patch_1\">\n   <path d=\"M 0 262.19625 \nL 388.965625 262.19625 \nL 388.965625 0 \nL 0 0 \nz\n\" style=\"fill:none;\"/>\n  </g>\n  <g id=\"axes_1\">\n   <g id=\"patch_2\">\n    <path d=\"M 46.965625 224.64 \nL 381.765625 224.64 \nL 381.765625 7.2 \nL 46.965625 7.2 \nz\n\" style=\"fill:#ffffff;\"/>\n   </g>\n   <g id=\"PathCollection_1\">\n    <defs>\n     <path d=\"M 0 2.236068 \nC 0.593012 2.236068 1.161816 2.000462 1.581139 1.581139 \nC 2.000462 1.161816 2.236068 0.593012 2.236068 0 \nC 2.236068 -0.593012 2.000462 -1.161816 1.581139 -1.581139 \nC 1.161816 -2.000462 0.593012 -2.236068 0 -2.236068 \nC -0.593012 -2.236068 -1.161816 -2.000462 -1.581139 -1.581139 \nC -2.000462 -1.161816 -2.236068 -0.593012 -2.236068 0 \nC -2.236068 0.593012 -2.000462 1.161816 -1.581139 1.581139 \nC -1.161816 2.000462 -0.593012 2.236068 0 2.236068 \nz\n\" id=\"mf880d716ce\" style=\"stroke:#1f77b4;\"/>\n    </defs>\n    <g clip-path=\"url(#p651e1e1bb5)\">\n     <use style=\"fill:#1f77b4;stroke:#1f77b4;\" x=\"366.547443\" xlink:href=\"#mf880d716ce\" y=\"17.083636\"/>\n     <use style=\"fill:#1f77b4;stroke:#1f77b4;\" x=\"288.911353\" xlink:href=\"#mf880d716ce\" y=\"132.19031\"/>\n     <use style=\"fill:#1f77b4;stroke:#1f77b4;\" x=\"260.500774\" xlink:href=\"#mf880d716ce\" y=\"142.55655\"/>\n     <use style=\"fill:#1f77b4;stroke:#1f77b4;\" x=\"248.550274\" xlink:href=\"#mf880d716ce\" y=\"142.784297\"/>\n     <use style=\"fill:#1f77b4;stroke:#1f77b4;\" x=\"247.270332\" xlink:href=\"#mf880d716ce\" y=\"131.573726\"/>\n     <use style=\"fill:#1f77b4;stroke:#1f77b4;\" x=\"236.426063\" xlink:href=\"#mf880d716ce\" y=\"73.98201\"/>\n     <use style=\"fill:#1f77b4;stroke:#1f77b4;\" x=\"233.512454\" xlink:href=\"#mf880d716ce\" y=\"162.389162\"/>\n     <use style=\"fill:#1f77b4;stroke:#1f77b4;\" x=\"231.517384\" xlink:href=\"#mf880d716ce\" y=\"155.331988\"/>\n     <use style=\"fill:#1f77b4;stroke:#1f77b4;\" x=\"221.728267\" xlink:href=\"#mf880d716ce\" y=\"135.252388\"/>\n     <use style=\"fill:#1f77b4;stroke:#1f77b4;\" x=\"213.9466\" xlink:href=\"#mf880d716ce\" y=\"99.615598\"/>\n     <use style=\"fill:#1f77b4;stroke:#1f77b4;\" x=\"212.710921\" xlink:href=\"#mf880d716ce\" y=\"47.847719\"/>\n     <use style=\"fill:#1f77b4;stroke:#1f77b4;\" x=\"210.6395\" xlink:href=\"#mf880d716ce\" y=\"147.017693\"/>\n     <use style=\"fill:#1f77b4;stroke:#1f77b4;\" x=\"200.477898\" xlink:href=\"#mf880d716ce\" y=\"127.244633\"/>\n     <use style=\"fill:#1f77b4;stroke:#1f77b4;\" x=\"200.185429\" xlink:href=\"#mf880d716ce\" y=\"126.829224\"/>\n     <use style=\"fill:#1f77b4;stroke:#1f77b4;\" x=\"197.879759\" xlink:href=\"#mf880d716ce\" y=\"151.820013\"/>\n     <use style=\"fill:#1f77b4;stroke:#1f77b4;\" x=\"197.707509\" xlink:href=\"#mf880d716ce\" y=\"171.450433\"/>\n     <use style=\"fill:#1f77b4;stroke:#1f77b4;\" x=\"197.707509\" xlink:href=\"#mf880d716ce\" y=\"191.425195\"/>\n     <use style=\"fill:#1f77b4;stroke:#1f77b4;\" x=\"194.640153\" xlink:href=\"#mf880d716ce\" y=\"148.535993\"/>\n     <use style=\"fill:#1f77b4;stroke:#1f77b4;\" x=\"189.156969\" xlink:href=\"#mf880d716ce\" y=\"18.003255\"/>\n     <use style=\"fill:#1f77b4;stroke:#1f77b4;\" x=\"189.156969\" xlink:href=\"#mf880d716ce\" y=\"128.13131\"/>\n     <use style=\"fill:#1f77b4;stroke:#1f77b4;\" x=\"189.156969\" xlink:href=\"#mf880d716ce\" y=\"128.13131\"/>\n     <use style=\"fill:#1f77b4;stroke:#1f77b4;\" x=\"188.11501\" xlink:href=\"#mf880d716ce\" y=\"128.130367\"/>\n     <use style=\"fill:#1f77b4;stroke:#1f77b4;\" x=\"187.073051\" xlink:href=\"#mf880d716ce\" y=\"113.717207\"/>\n     <use style=\"fill:#1f77b4;stroke:#1f77b4;\" x=\"187.073051\" xlink:href=\"#mf880d716ce\" y=\"64.064272\"/>\n     <use style=\"fill:#1f77b4;stroke:#1f77b4;\" x=\"184.05733\" xlink:href=\"#mf880d716ce\" y=\"166.09255\"/>\n     <use style=\"fill:#1f77b4;stroke:#1f77b4;\" x=\"183.054392\" xlink:href=\"#mf880d716ce\" y=\"133.579519\"/>\n     <use style=\"fill:#1f77b4;stroke:#1f77b4;\" x=\"180.056131\" xlink:href=\"#mf880d716ce\" y=\"140.165124\"/>\n     <use style=\"fill:#1f77b4;stroke:#1f77b4;\" x=\"177.413555\" xlink:href=\"#mf880d716ce\" y=\"117.236022\"/>\n     <use style=\"fill:#1f77b4;stroke:#1f77b4;\" x=\"177.031785\" xlink:href=\"#mf880d716ce\" y=\"120.888753\"/>\n     <use style=\"fill:#1f77b4;stroke:#1f77b4;\" x=\"177.031785\" xlink:href=\"#mf880d716ce\" y=\"146.669355\"/>\n     <use style=\"fill:#1f77b4;stroke:#1f77b4;\" x=\"176.41158\" xlink:href=\"#mf880d716ce\" y=\"128.579642\"/>\n     <use style=\"fill:#1f77b4;stroke:#1f77b4;\" x=\"175.791376\" xlink:href=\"#mf880d716ce\" y=\"198.815895\"/>\n     <use style=\"fill:#1f77b4;stroke:#1f77b4;\" x=\"169.03618\" xlink:href=\"#mf880d716ce\" y=\"150.484232\"/>\n     <use style=\"fill:#1f77b4;stroke:#1f77b4;\" x=\"166.084662\" xlink:href=\"#mf880d716ce\" y=\"126.95856\"/>\n     <use style=\"fill:#1f77b4;stroke:#1f77b4;\" x=\"163.624004\" xlink:href=\"#mf880d716ce\" y=\"94.875864\"/>\n     <use style=\"fill:#1f77b4;stroke:#1f77b4;\" x=\"163.624004\" xlink:href=\"#mf880d716ce\" y=\"106.646408\"/>\n     <use style=\"fill:#1f77b4;stroke:#1f77b4;\" x=\"158.092454\" xlink:href=\"#mf880d716ce\" y=\"111.315547\"/>\n     <use style=\"fill:#1f77b4;stroke:#1f77b4;\" x=\"153.471155\" xlink:href=\"#mf880d716ce\" y=\"158.927995\"/>\n     <use style=\"fill:#1f77b4;stroke:#1f77b4;\" x=\"150.092108\" xlink:href=\"#mf880d716ce\" y=\"162.739649\"/>\n     <use style=\"fill:#1f77b4;stroke:#1f77b4;\" x=\"147.676304\" xlink:href=\"#mf880d716ce\" y=\"123.710195\"/>\n     <use style=\"fill:#1f77b4;stroke:#1f77b4;\" x=\"146.406715\" xlink:href=\"#mf880d716ce\" y=\"147.429126\"/>\n     <use style=\"fill:#1f77b4;stroke:#1f77b4;\" x=\"141.959497\" xlink:href=\"#mf880d716ce\" y=\"147.746144\"/>\n     <use style=\"fill:#1f77b4;stroke:#1f77b4;\" x=\"141.880607\" xlink:href=\"#mf880d716ce\" y=\"214.756364\"/>\n     <use style=\"fill:#1f77b4;stroke:#1f77b4;\" x=\"140.527015\" xlink:href=\"#mf880d716ce\" y=\"153.624198\"/>\n     <use style=\"fill:#1f77b4;stroke:#1f77b4;\" x=\"129.237804\" xlink:href=\"#mf880d716ce\" y=\"149.070599\"/>\n     <use style=\"fill:#1f77b4;stroke:#1f77b4;\" x=\"103.139817\" xlink:href=\"#mf880d716ce\" y=\"101.484705\"/>\n     <use style=\"fill:#1f77b4;stroke:#1f77b4;\" x=\"91.183845\" xlink:href=\"#mf880d716ce\" y=\"188.351678\"/>\n     <use style=\"fill:#1f77b4;stroke:#1f77b4;\" x=\"88.423472\" xlink:href=\"#mf880d716ce\" y=\"145.528642\"/>\n     <use style=\"fill:#1f77b4;stroke:#1f77b4;\" x=\"79.24525\" xlink:href=\"#mf880d716ce\" y=\"143.856582\"/>\n     <use style=\"fill:#1f77b4;stroke:#1f77b4;\" x=\"78.823437\" xlink:href=\"#mf880d716ce\" y=\"153.394077\"/>\n     <use style=\"fill:#1f77b4;stroke:#1f77b4;\" x=\"68.245367\" xlink:href=\"#mf880d716ce\" y=\"172.164862\"/>\n     <use style=\"fill:#1f77b4;stroke:#1f77b4;\" x=\"62.183807\" xlink:href=\"#mf880d716ce\" y=\"162.189834\"/>\n    </g>\n   </g>\n   <g id=\"matplotlib.axis_1\">\n    <g id=\"xtick_1\">\n     <g id=\"line2d_1\">\n      <defs>\n       <path d=\"M 0 0 \nL 0 3.5 \n\" id=\"md0050ab10f\" style=\"stroke:#000000;stroke-width:0.8;\"/>\n      </defs>\n      <g>\n       <use style=\"stroke:#000000;stroke-width:0.8;\" x=\"93.358827\" xlink:href=\"#md0050ab10f\" y=\"224.64\"/>\n      </g>\n     </g>\n     <g id=\"text_1\">\n      <!-- 10 -->\n      <g transform=\"translate(86.996327 239.238437)scale(0.1 -0.1)\">\n       <defs>\n        <path d=\"M 12.40625 8.296875 \nL 28.515625 8.296875 \nL 28.515625 63.921875 \nL 10.984375 60.40625 \nL 10.984375 69.390625 \nL 28.421875 72.90625 \nL 38.28125 72.90625 \nL 38.28125 8.296875 \nL 54.390625 8.296875 \nL 54.390625 0 \nL 12.40625 0 \nz\n\" id=\"DejaVuSans-49\"/>\n        <path d=\"M 31.78125 66.40625 \nQ 24.171875 66.40625 20.328125 58.90625 \nQ 16.5 51.421875 16.5 36.375 \nQ 16.5 21.390625 20.328125 13.890625 \nQ 24.171875 6.390625 31.78125 6.390625 \nQ 39.453125 6.390625 43.28125 13.890625 \nQ 47.125 21.390625 47.125 36.375 \nQ 47.125 51.421875 43.28125 58.90625 \nQ 39.453125 66.40625 31.78125 66.40625 \nz\nM 31.78125 74.21875 \nQ 44.046875 74.21875 50.515625 64.515625 \nQ 56.984375 54.828125 56.984375 36.375 \nQ 56.984375 17.96875 50.515625 8.265625 \nQ 44.046875 -1.421875 31.78125 -1.421875 \nQ 19.53125 -1.421875 13.0625 8.265625 \nQ 6.59375 17.96875 6.59375 36.375 \nQ 6.59375 54.828125 13.0625 64.515625 \nQ 19.53125 74.21875 31.78125 74.21875 \nz\n\" id=\"DejaVuSans-48\"/>\n       </defs>\n       <use xlink:href=\"#DejaVuSans-49\"/>\n       <use x=\"63.623047\" xlink:href=\"#DejaVuSans-48\"/>\n      </g>\n     </g>\n    </g>\n    <g id=\"xtick_2\">\n     <g id=\"line2d_2\">\n      <g>\n       <use style=\"stroke:#000000;stroke-width:0.8;\" x=\"154.139749\" xlink:href=\"#md0050ab10f\" y=\"224.64\"/>\n      </g>\n     </g>\n     <g id=\"text_2\">\n      <!-- 15 -->\n      <g transform=\"translate(147.777249 239.238437)scale(0.1 -0.1)\">\n       <defs>\n        <path d=\"M 10.796875 72.90625 \nL 49.515625 72.90625 \nL 49.515625 64.59375 \nL 19.828125 64.59375 \nL 19.828125 46.734375 \nQ 21.96875 47.46875 24.109375 47.828125 \nQ 26.265625 48.1875 28.421875 48.1875 \nQ 40.625 48.1875 47.75 41.5 \nQ 54.890625 34.8125 54.890625 23.390625 \nQ 54.890625 11.625 47.5625 5.09375 \nQ 40.234375 -1.421875 26.90625 -1.421875 \nQ 22.3125 -1.421875 17.546875 -0.640625 \nQ 12.796875 0.140625 7.71875 1.703125 \nL 7.71875 11.625 \nQ 12.109375 9.234375 16.796875 8.0625 \nQ 21.484375 6.890625 26.703125 6.890625 \nQ 35.15625 6.890625 40.078125 11.328125 \nQ 45.015625 15.765625 45.015625 23.390625 \nQ 45.015625 31 40.078125 35.4375 \nQ 35.15625 39.890625 26.703125 39.890625 \nQ 22.75 39.890625 18.8125 39.015625 \nQ 14.890625 38.140625 10.796875 36.28125 \nz\n\" id=\"DejaVuSans-53\"/>\n       </defs>\n       <use xlink:href=\"#DejaVuSans-49\"/>\n       <use x=\"63.623047\" xlink:href=\"#DejaVuSans-53\"/>\n      </g>\n     </g>\n    </g>\n    <g id=\"xtick_3\">\n     <g id=\"line2d_3\">\n      <g>\n       <use style=\"stroke:#000000;stroke-width:0.8;\" x=\"214.920671\" xlink:href=\"#md0050ab10f\" y=\"224.64\"/>\n      </g>\n     </g>\n     <g id=\"text_3\">\n      <!-- 20 -->\n      <g transform=\"translate(208.558171 239.238437)scale(0.1 -0.1)\">\n       <defs>\n        <path d=\"M 19.1875 8.296875 \nL 53.609375 8.296875 \nL 53.609375 0 \nL 7.328125 0 \nL 7.328125 8.296875 \nQ 12.9375 14.109375 22.625 23.890625 \nQ 32.328125 33.6875 34.8125 36.53125 \nQ 39.546875 41.84375 41.421875 45.53125 \nQ 43.3125 49.21875 43.3125 52.78125 \nQ 43.3125 58.59375 39.234375 62.25 \nQ 35.15625 65.921875 28.609375 65.921875 \nQ 23.96875 65.921875 18.8125 64.3125 \nQ 13.671875 62.703125 7.8125 59.421875 \nL 7.8125 69.390625 \nQ 13.765625 71.78125 18.9375 73 \nQ 24.125 74.21875 28.421875 74.21875 \nQ 39.75 74.21875 46.484375 68.546875 \nQ 53.21875 62.890625 53.21875 53.421875 \nQ 53.21875 48.921875 51.53125 44.890625 \nQ 49.859375 40.875 45.40625 35.40625 \nQ 44.1875 33.984375 37.640625 27.21875 \nQ 31.109375 20.453125 19.1875 8.296875 \nz\n\" id=\"DejaVuSans-50\"/>\n       </defs>\n       <use xlink:href=\"#DejaVuSans-50\"/>\n       <use x=\"63.623047\" xlink:href=\"#DejaVuSans-48\"/>\n      </g>\n     </g>\n    </g>\n    <g id=\"xtick_4\">\n     <g id=\"line2d_4\">\n      <g>\n       <use style=\"stroke:#000000;stroke-width:0.8;\" x=\"275.701593\" xlink:href=\"#md0050ab10f\" y=\"224.64\"/>\n      </g>\n     </g>\n     <g id=\"text_4\">\n      <!-- 25 -->\n      <g transform=\"translate(269.339093 239.238437)scale(0.1 -0.1)\">\n       <use xlink:href=\"#DejaVuSans-50\"/>\n       <use x=\"63.623047\" xlink:href=\"#DejaVuSans-53\"/>\n      </g>\n     </g>\n    </g>\n    <g id=\"xtick_5\">\n     <g id=\"line2d_5\">\n      <g>\n       <use style=\"stroke:#000000;stroke-width:0.8;\" x=\"336.482515\" xlink:href=\"#md0050ab10f\" y=\"224.64\"/>\n      </g>\n     </g>\n     <g id=\"text_5\">\n      <!-- 30 -->\n      <g transform=\"translate(330.120015 239.238437)scale(0.1 -0.1)\">\n       <defs>\n        <path d=\"M 40.578125 39.3125 \nQ 47.65625 37.796875 51.625 33 \nQ 55.609375 28.21875 55.609375 21.1875 \nQ 55.609375 10.40625 48.1875 4.484375 \nQ 40.765625 -1.421875 27.09375 -1.421875 \nQ 22.515625 -1.421875 17.65625 -0.515625 \nQ 12.796875 0.390625 7.625 2.203125 \nL 7.625 11.71875 \nQ 11.71875 9.328125 16.59375 8.109375 \nQ 21.484375 6.890625 26.8125 6.890625 \nQ 36.078125 6.890625 40.9375 10.546875 \nQ 45.796875 14.203125 45.796875 21.1875 \nQ 45.796875 27.640625 41.28125 31.265625 \nQ 36.765625 34.90625 28.71875 34.90625 \nL 20.21875 34.90625 \nL 20.21875 43.015625 \nL 29.109375 43.015625 \nQ 36.375 43.015625 40.234375 45.921875 \nQ 44.09375 48.828125 44.09375 54.296875 \nQ 44.09375 59.90625 40.109375 62.90625 \nQ 36.140625 65.921875 28.71875 65.921875 \nQ 24.65625 65.921875 20.015625 65.03125 \nQ 15.375 64.15625 9.8125 62.3125 \nL 9.8125 71.09375 \nQ 15.4375 72.65625 20.34375 73.4375 \nQ 25.25 74.21875 29.59375 74.21875 \nQ 40.828125 74.21875 47.359375 69.109375 \nQ 53.90625 64.015625 53.90625 55.328125 \nQ 53.90625 49.265625 50.4375 45.09375 \nQ 46.96875 40.921875 40.578125 39.3125 \nz\n\" id=\"DejaVuSans-51\"/>\n       </defs>\n       <use xlink:href=\"#DejaVuSans-51\"/>\n       <use x=\"63.623047\" xlink:href=\"#DejaVuSans-48\"/>\n      </g>\n     </g>\n    </g>\n    <g id=\"text_6\">\n     <!-- SE.XPD.TOTL.GB.ZS -->\n     <g transform=\"translate(164.652344 252.916562)scale(0.1 -0.1)\">\n      <defs>\n       <path d=\"M 53.515625 70.515625 \nL 53.515625 60.890625 \nQ 47.90625 63.578125 42.921875 64.890625 \nQ 37.9375 66.21875 33.296875 66.21875 \nQ 25.25 66.21875 20.875 63.09375 \nQ 16.5 59.96875 16.5 54.203125 \nQ 16.5 49.359375 19.40625 46.890625 \nQ 22.3125 44.4375 30.421875 42.921875 \nL 36.375 41.703125 \nQ 47.40625 39.59375 52.65625 34.296875 \nQ 57.90625 29 57.90625 20.125 \nQ 57.90625 9.515625 50.796875 4.046875 \nQ 43.703125 -1.421875 29.984375 -1.421875 \nQ 24.8125 -1.421875 18.96875 -0.25 \nQ 13.140625 0.921875 6.890625 3.21875 \nL 6.890625 13.375 \nQ 12.890625 10.015625 18.65625 8.296875 \nQ 24.421875 6.59375 29.984375 6.59375 \nQ 38.421875 6.59375 43.015625 9.90625 \nQ 47.609375 13.234375 47.609375 19.390625 \nQ 47.609375 24.75 44.3125 27.78125 \nQ 41.015625 30.8125 33.5 32.328125 \nL 27.484375 33.5 \nQ 16.453125 35.6875 11.515625 40.375 \nQ 6.59375 45.0625 6.59375 53.421875 \nQ 6.59375 63.09375 13.40625 68.65625 \nQ 20.21875 74.21875 32.171875 74.21875 \nQ 37.3125 74.21875 42.625 73.28125 \nQ 47.953125 72.359375 53.515625 70.515625 \nz\n\" id=\"DejaVuSans-83\"/>\n       <path d=\"M 9.8125 72.90625 \nL 55.90625 72.90625 \nL 55.90625 64.59375 \nL 19.671875 64.59375 \nL 19.671875 43.015625 \nL 54.390625 43.015625 \nL 54.390625 34.71875 \nL 19.671875 34.71875 \nL 19.671875 8.296875 \nL 56.78125 8.296875 \nL 56.78125 0 \nL 9.8125 0 \nz\n\" id=\"DejaVuSans-69\"/>\n       <path d=\"M 10.6875 12.40625 \nL 21 12.40625 \nL 21 0 \nL 10.6875 0 \nz\n\" id=\"DejaVuSans-46\"/>\n       <path d=\"M 6.296875 72.90625 \nL 16.890625 72.90625 \nL 35.015625 45.796875 \nL 53.21875 72.90625 \nL 63.8125 72.90625 \nL 40.375 37.890625 \nL 65.375 0 \nL 54.78125 0 \nL 34.28125 31 \nL 13.625 0 \nL 2.984375 0 \nL 29 38.921875 \nz\n\" id=\"DejaVuSans-88\"/>\n       <path d=\"M 19.671875 64.796875 \nL 19.671875 37.40625 \nL 32.078125 37.40625 \nQ 38.96875 37.40625 42.71875 40.96875 \nQ 46.484375 44.53125 46.484375 51.125 \nQ 46.484375 57.671875 42.71875 61.234375 \nQ 38.96875 64.796875 32.078125 64.796875 \nz\nM 9.8125 72.90625 \nL 32.078125 72.90625 \nQ 44.34375 72.90625 50.609375 67.359375 \nQ 56.890625 61.8125 56.890625 51.125 \nQ 56.890625 40.328125 50.609375 34.8125 \nQ 44.34375 29.296875 32.078125 29.296875 \nL 19.671875 29.296875 \nL 19.671875 0 \nL 9.8125 0 \nz\n\" id=\"DejaVuSans-80\"/>\n       <path d=\"M 19.671875 64.796875 \nL 19.671875 8.109375 \nL 31.59375 8.109375 \nQ 46.6875 8.109375 53.6875 14.9375 \nQ 60.6875 21.78125 60.6875 36.53125 \nQ 60.6875 51.171875 53.6875 57.984375 \nQ 46.6875 64.796875 31.59375 64.796875 \nz\nM 9.8125 72.90625 \nL 30.078125 72.90625 \nQ 51.265625 72.90625 61.171875 64.09375 \nQ 71.09375 55.28125 71.09375 36.53125 \nQ 71.09375 17.671875 61.125 8.828125 \nQ 51.171875 0 30.078125 0 \nL 9.8125 0 \nz\n\" id=\"DejaVuSans-68\"/>\n       <path d=\"M -0.296875 72.90625 \nL 61.375 72.90625 \nL 61.375 64.59375 \nL 35.5 64.59375 \nL 35.5 0 \nL 25.59375 0 \nL 25.59375 64.59375 \nL -0.296875 64.59375 \nz\n\" id=\"DejaVuSans-84\"/>\n       <path d=\"M 39.40625 66.21875 \nQ 28.65625 66.21875 22.328125 58.203125 \nQ 16.015625 50.203125 16.015625 36.375 \nQ 16.015625 22.609375 22.328125 14.59375 \nQ 28.65625 6.59375 39.40625 6.59375 \nQ 50.140625 6.59375 56.421875 14.59375 \nQ 62.703125 22.609375 62.703125 36.375 \nQ 62.703125 50.203125 56.421875 58.203125 \nQ 50.140625 66.21875 39.40625 66.21875 \nz\nM 39.40625 74.21875 \nQ 54.734375 74.21875 63.90625 63.9375 \nQ 73.09375 53.65625 73.09375 36.375 \nQ 73.09375 19.140625 63.90625 8.859375 \nQ 54.734375 -1.421875 39.40625 -1.421875 \nQ 24.03125 -1.421875 14.8125 8.828125 \nQ 5.609375 19.09375 5.609375 36.375 \nQ 5.609375 53.65625 14.8125 63.9375 \nQ 24.03125 74.21875 39.40625 74.21875 \nz\n\" id=\"DejaVuSans-79\"/>\n       <path d=\"M 9.8125 72.90625 \nL 19.671875 72.90625 \nL 19.671875 8.296875 \nL 55.171875 8.296875 \nL 55.171875 0 \nL 9.8125 0 \nz\n\" id=\"DejaVuSans-76\"/>\n       <path d=\"M 59.515625 10.40625 \nL 59.515625 29.984375 \nL 43.40625 29.984375 \nL 43.40625 38.09375 \nL 69.28125 38.09375 \nL 69.28125 6.78125 \nQ 63.578125 2.734375 56.6875 0.65625 \nQ 49.8125 -1.421875 42 -1.421875 \nQ 24.90625 -1.421875 15.25 8.5625 \nQ 5.609375 18.5625 5.609375 36.375 \nQ 5.609375 54.25 15.25 64.234375 \nQ 24.90625 74.21875 42 74.21875 \nQ 49.125 74.21875 55.546875 72.453125 \nQ 61.96875 70.703125 67.390625 67.28125 \nL 67.390625 56.78125 \nQ 61.921875 61.421875 55.765625 63.765625 \nQ 49.609375 66.109375 42.828125 66.109375 \nQ 29.4375 66.109375 22.71875 58.640625 \nQ 16.015625 51.171875 16.015625 36.375 \nQ 16.015625 21.625 22.71875 14.15625 \nQ 29.4375 6.6875 42.828125 6.6875 \nQ 48.046875 6.6875 52.140625 7.59375 \nQ 56.25 8.5 59.515625 10.40625 \nz\n\" id=\"DejaVuSans-71\"/>\n       <path d=\"M 19.671875 34.8125 \nL 19.671875 8.109375 \nL 35.5 8.109375 \nQ 43.453125 8.109375 47.28125 11.40625 \nQ 51.125 14.703125 51.125 21.484375 \nQ 51.125 28.328125 47.28125 31.5625 \nQ 43.453125 34.8125 35.5 34.8125 \nz\nM 19.671875 64.796875 \nL 19.671875 42.828125 \nL 34.28125 42.828125 \nQ 41.5 42.828125 45.03125 45.53125 \nQ 48.578125 48.25 48.578125 53.8125 \nQ 48.578125 59.328125 45.03125 62.0625 \nQ 41.5 64.796875 34.28125 64.796875 \nz\nM 9.8125 72.90625 \nL 35.015625 72.90625 \nQ 46.296875 72.90625 52.390625 68.21875 \nQ 58.5 63.53125 58.5 54.890625 \nQ 58.5 48.1875 55.375 44.234375 \nQ 52.25 40.28125 46.1875 39.3125 \nQ 53.46875 37.75 57.5 32.78125 \nQ 61.53125 27.828125 61.53125 20.40625 \nQ 61.53125 10.640625 54.890625 5.3125 \nQ 48.25 0 35.984375 0 \nL 9.8125 0 \nz\n\" id=\"DejaVuSans-66\"/>\n       <path d=\"M 5.609375 72.90625 \nL 62.890625 72.90625 \nL 62.890625 65.375 \nL 16.796875 8.296875 \nL 64.015625 8.296875 \nL 64.015625 0 \nL 4.5 0 \nL 4.5 7.515625 \nL 50.59375 64.59375 \nL 5.609375 64.59375 \nz\n\" id=\"DejaVuSans-90\"/>\n      </defs>\n      <use xlink:href=\"#DejaVuSans-83\"/>\n      <use x=\"63.476562\" xlink:href=\"#DejaVuSans-69\"/>\n      <use x=\"126.660156\" xlink:href=\"#DejaVuSans-46\"/>\n      <use x=\"158.447266\" xlink:href=\"#DejaVuSans-88\"/>\n      <use x=\"226.953125\" xlink:href=\"#DejaVuSans-80\"/>\n      <use x=\"287.255859\" xlink:href=\"#DejaVuSans-68\"/>\n      <use x=\"364.257812\" xlink:href=\"#DejaVuSans-46\"/>\n      <use x=\"396.044922\" xlink:href=\"#DejaVuSans-84\"/>\n      <use x=\"457.128906\" xlink:href=\"#DejaVuSans-79\"/>\n      <use x=\"535.839844\" xlink:href=\"#DejaVuSans-84\"/>\n      <use x=\"596.923828\" xlink:href=\"#DejaVuSans-76\"/>\n      <use x=\"652.636719\" xlink:href=\"#DejaVuSans-46\"/>\n      <use x=\"684.423828\" xlink:href=\"#DejaVuSans-71\"/>\n      <use x=\"761.914062\" xlink:href=\"#DejaVuSans-66\"/>\n      <use x=\"830.517578\" xlink:href=\"#DejaVuSans-46\"/>\n      <use x=\"862.304688\" xlink:href=\"#DejaVuSans-90\"/>\n      <use x=\"930.810547\" xlink:href=\"#DejaVuSans-83\"/>\n     </g>\n    </g>\n   </g>\n   <g id=\"matplotlib.axis_2\">\n    <g id=\"ytick_1\">\n     <g id=\"line2d_6\">\n      <defs>\n       <path d=\"M 0 0 \nL -3.5 0 \n\" id=\"m843f6d90c7\" style=\"stroke:#000000;stroke-width:0.8;\"/>\n      </defs>\n      <g>\n       <use style=\"stroke:#000000;stroke-width:0.8;\" x=\"46.965625\" xlink:href=\"#m843f6d90c7\" y=\"190.177949\"/>\n      </g>\n     </g>\n     <g id=\"text_7\">\n      <!-- 80 -->\n      <g transform=\"translate(27.240625 193.977168)scale(0.1 -0.1)\">\n       <defs>\n        <path d=\"M 31.78125 34.625 \nQ 24.75 34.625 20.71875 30.859375 \nQ 16.703125 27.09375 16.703125 20.515625 \nQ 16.703125 13.921875 20.71875 10.15625 \nQ 24.75 6.390625 31.78125 6.390625 \nQ 38.8125 6.390625 42.859375 10.171875 \nQ 46.921875 13.96875 46.921875 20.515625 \nQ 46.921875 27.09375 42.890625 30.859375 \nQ 38.875 34.625 31.78125 34.625 \nz\nM 21.921875 38.8125 \nQ 15.578125 40.375 12.03125 44.71875 \nQ 8.5 49.078125 8.5 55.328125 \nQ 8.5 64.0625 14.71875 69.140625 \nQ 20.953125 74.21875 31.78125 74.21875 \nQ 42.671875 74.21875 48.875 69.140625 \nQ 55.078125 64.0625 55.078125 55.328125 \nQ 55.078125 49.078125 51.53125 44.71875 \nQ 48 40.375 41.703125 38.8125 \nQ 48.828125 37.15625 52.796875 32.3125 \nQ 56.78125 27.484375 56.78125 20.515625 \nQ 56.78125 9.90625 50.3125 4.234375 \nQ 43.84375 -1.421875 31.78125 -1.421875 \nQ 19.734375 -1.421875 13.25 4.234375 \nQ 6.78125 9.90625 6.78125 20.515625 \nQ 6.78125 27.484375 10.78125 32.3125 \nQ 14.796875 37.15625 21.921875 38.8125 \nz\nM 18.3125 54.390625 \nQ 18.3125 48.734375 21.84375 45.5625 \nQ 25.390625 42.390625 31.78125 42.390625 \nQ 38.140625 42.390625 41.71875 45.5625 \nQ 45.3125 48.734375 45.3125 54.390625 \nQ 45.3125 60.0625 41.71875 63.234375 \nQ 38.140625 66.40625 31.78125 66.40625 \nQ 25.390625 66.40625 21.84375 63.234375 \nQ 18.3125 60.0625 18.3125 54.390625 \nz\n\" id=\"DejaVuSans-56\"/>\n       </defs>\n       <use xlink:href=\"#DejaVuSans-56\"/>\n       <use x=\"63.623047\" xlink:href=\"#DejaVuSans-48\"/>\n      </g>\n     </g>\n    </g>\n    <g id=\"ytick_2\">\n     <g id=\"line2d_7\">\n      <g>\n       <use style=\"stroke:#000000;stroke-width:0.8;\" x=\"46.965625\" xlink:href=\"#m843f6d90c7\" y=\"152.487122\"/>\n      </g>\n     </g>\n     <g id=\"text_8\">\n      <!-- 100 -->\n      <g transform=\"translate(20.878125 156.286341)scale(0.1 -0.1)\">\n       <use xlink:href=\"#DejaVuSans-49\"/>\n       <use x=\"63.623047\" xlink:href=\"#DejaVuSans-48\"/>\n       <use x=\"127.246094\" xlink:href=\"#DejaVuSans-48\"/>\n      </g>\n     </g>\n    </g>\n    <g id=\"ytick_3\">\n     <g id=\"line2d_8\">\n      <g>\n       <use style=\"stroke:#000000;stroke-width:0.8;\" x=\"46.965625\" xlink:href=\"#m843f6d90c7\" y=\"114.796295\"/>\n      </g>\n     </g>\n     <g id=\"text_9\">\n      <!-- 120 -->\n      <g transform=\"translate(20.878125 118.595514)scale(0.1 -0.1)\">\n       <use xlink:href=\"#DejaVuSans-49\"/>\n       <use x=\"63.623047\" xlink:href=\"#DejaVuSans-50\"/>\n       <use x=\"127.246094\" xlink:href=\"#DejaVuSans-48\"/>\n      </g>\n     </g>\n    </g>\n    <g id=\"ytick_4\">\n     <g id=\"line2d_9\">\n      <g>\n       <use style=\"stroke:#000000;stroke-width:0.8;\" x=\"46.965625\" xlink:href=\"#m843f6d90c7\" y=\"77.105468\"/>\n      </g>\n     </g>\n     <g id=\"text_10\">\n      <!-- 140 -->\n      <g transform=\"translate(20.878125 80.904687)scale(0.1 -0.1)\">\n       <defs>\n        <path d=\"M 37.796875 64.3125 \nL 12.890625 25.390625 \nL 37.796875 25.390625 \nz\nM 35.203125 72.90625 \nL 47.609375 72.90625 \nL 47.609375 25.390625 \nL 58.015625 25.390625 \nL 58.015625 17.1875 \nL 47.609375 17.1875 \nL 47.609375 0 \nL 37.796875 0 \nL 37.796875 17.1875 \nL 4.890625 17.1875 \nL 4.890625 26.703125 \nz\n\" id=\"DejaVuSans-52\"/>\n       </defs>\n       <use xlink:href=\"#DejaVuSans-49\"/>\n       <use x=\"63.623047\" xlink:href=\"#DejaVuSans-52\"/>\n       <use x=\"127.246094\" xlink:href=\"#DejaVuSans-48\"/>\n      </g>\n     </g>\n    </g>\n    <g id=\"ytick_5\">\n     <g id=\"line2d_10\">\n      <g>\n       <use style=\"stroke:#000000;stroke-width:0.8;\" x=\"46.965625\" xlink:href=\"#m843f6d90c7\" y=\"39.414641\"/>\n      </g>\n     </g>\n     <g id=\"text_11\">\n      <!-- 160 -->\n      <g transform=\"translate(20.878125 43.21386)scale(0.1 -0.1)\">\n       <defs>\n        <path d=\"M 33.015625 40.375 \nQ 26.375 40.375 22.484375 35.828125 \nQ 18.609375 31.296875 18.609375 23.390625 \nQ 18.609375 15.53125 22.484375 10.953125 \nQ 26.375 6.390625 33.015625 6.390625 \nQ 39.65625 6.390625 43.53125 10.953125 \nQ 47.40625 15.53125 47.40625 23.390625 \nQ 47.40625 31.296875 43.53125 35.828125 \nQ 39.65625 40.375 33.015625 40.375 \nz\nM 52.59375 71.296875 \nL 52.59375 62.3125 \nQ 48.875 64.0625 45.09375 64.984375 \nQ 41.3125 65.921875 37.59375 65.921875 \nQ 27.828125 65.921875 22.671875 59.328125 \nQ 17.53125 52.734375 16.796875 39.40625 \nQ 19.671875 43.65625 24.015625 45.921875 \nQ 28.375 48.1875 33.59375 48.1875 \nQ 44.578125 48.1875 50.953125 41.515625 \nQ 57.328125 34.859375 57.328125 23.390625 \nQ 57.328125 12.15625 50.6875 5.359375 \nQ 44.046875 -1.421875 33.015625 -1.421875 \nQ 20.359375 -1.421875 13.671875 8.265625 \nQ 6.984375 17.96875 6.984375 36.375 \nQ 6.984375 53.65625 15.1875 63.9375 \nQ 23.390625 74.21875 37.203125 74.21875 \nQ 40.921875 74.21875 44.703125 73.484375 \nQ 48.484375 72.75 52.59375 71.296875 \nz\n\" id=\"DejaVuSans-54\"/>\n       </defs>\n       <use xlink:href=\"#DejaVuSans-49\"/>\n       <use x=\"63.623047\" xlink:href=\"#DejaVuSans-54\"/>\n       <use x=\"127.246094\" xlink:href=\"#DejaVuSans-48\"/>\n      </g>\n     </g>\n    </g>\n    <g id=\"text_12\">\n     <!-- SE.PRM.GINT.ZS -->\n     <g transform=\"translate(14.798438 155.973125)rotate(-90)scale(0.1 -0.1)\">\n      <defs>\n       <path d=\"M 44.390625 34.1875 \nQ 47.5625 33.109375 50.5625 29.59375 \nQ 53.5625 26.078125 56.59375 19.921875 \nL 66.609375 0 \nL 56 0 \nL 46.6875 18.703125 \nQ 43.0625 26.03125 39.671875 28.421875 \nQ 36.28125 30.8125 30.421875 30.8125 \nL 19.671875 30.8125 \nL 19.671875 0 \nL 9.8125 0 \nL 9.8125 72.90625 \nL 32.078125 72.90625 \nQ 44.578125 72.90625 50.734375 67.671875 \nQ 56.890625 62.453125 56.890625 51.90625 \nQ 56.890625 45.015625 53.6875 40.46875 \nQ 50.484375 35.9375 44.390625 34.1875 \nz\nM 19.671875 64.796875 \nL 19.671875 38.921875 \nL 32.078125 38.921875 \nQ 39.203125 38.921875 42.84375 42.21875 \nQ 46.484375 45.515625 46.484375 51.90625 \nQ 46.484375 58.296875 42.84375 61.546875 \nQ 39.203125 64.796875 32.078125 64.796875 \nz\n\" id=\"DejaVuSans-82\"/>\n       <path d=\"M 9.8125 72.90625 \nL 24.515625 72.90625 \nL 43.109375 23.296875 \nL 61.8125 72.90625 \nL 76.515625 72.90625 \nL 76.515625 0 \nL 66.890625 0 \nL 66.890625 64.015625 \nL 48.09375 14.015625 \nL 38.1875 14.015625 \nL 19.390625 64.015625 \nL 19.390625 0 \nL 9.8125 0 \nz\n\" id=\"DejaVuSans-77\"/>\n       <path d=\"M 9.8125 72.90625 \nL 19.671875 72.90625 \nL 19.671875 0 \nL 9.8125 0 \nz\n\" id=\"DejaVuSans-73\"/>\n       <path d=\"M 9.8125 72.90625 \nL 23.09375 72.90625 \nL 55.421875 11.921875 \nL 55.421875 72.90625 \nL 64.984375 72.90625 \nL 64.984375 0 \nL 51.703125 0 \nL 19.390625 60.984375 \nL 19.390625 0 \nL 9.8125 0 \nz\n\" id=\"DejaVuSans-78\"/>\n      </defs>\n      <use xlink:href=\"#DejaVuSans-83\"/>\n      <use x=\"63.476562\" xlink:href=\"#DejaVuSans-69\"/>\n      <use x=\"126.660156\" xlink:href=\"#DejaVuSans-46\"/>\n      <use x=\"158.447266\" xlink:href=\"#DejaVuSans-80\"/>\n      <use x=\"218.75\" xlink:href=\"#DejaVuSans-82\"/>\n      <use x=\"288.232422\" xlink:href=\"#DejaVuSans-77\"/>\n      <use x=\"374.511719\" xlink:href=\"#DejaVuSans-46\"/>\n      <use x=\"406.298828\" xlink:href=\"#DejaVuSans-71\"/>\n      <use x=\"483.789062\" xlink:href=\"#DejaVuSans-73\"/>\n      <use x=\"513.28125\" xlink:href=\"#DejaVuSans-78\"/>\n      <use x=\"588.085938\" xlink:href=\"#DejaVuSans-84\"/>\n      <use x=\"637.294922\" xlink:href=\"#DejaVuSans-46\"/>\n      <use x=\"669.082031\" xlink:href=\"#DejaVuSans-90\"/>\n      <use x=\"737.587891\" xlink:href=\"#DejaVuSans-83\"/>\n     </g>\n    </g>\n   </g>\n   <g id=\"patch_3\">\n    <path d=\"M 46.965625 224.64 \nL 46.965625 7.2 \n\" style=\"fill:none;stroke:#000000;stroke-linecap:square;stroke-linejoin:miter;stroke-width:0.8;\"/>\n   </g>\n   <g id=\"patch_4\">\n    <path d=\"M 381.765625 224.64 \nL 381.765625 7.2 \n\" style=\"fill:none;stroke:#000000;stroke-linecap:square;stroke-linejoin:miter;stroke-width:0.8;\"/>\n   </g>\n   <g id=\"patch_5\">\n    <path d=\"M 46.965625 224.64 \nL 381.765625 224.64 \n\" style=\"fill:none;stroke:#000000;stroke-linecap:square;stroke-linejoin:miter;stroke-width:0.8;\"/>\n   </g>\n   <g id=\"patch_6\">\n    <path d=\"M 46.965625 7.2 \nL 381.765625 7.2 \n\" style=\"fill:none;stroke:#000000;stroke-linecap:square;stroke-linejoin:miter;stroke-width:0.8;\"/>\n   </g>\n  </g>\n </g>\n <defs>\n  <clipPath id=\"p651e1e1bb5\">\n   <rect height=\"217.44\" width=\"334.8\" x=\"46.965625\" y=\"7.2\"/>\n  </clipPath>\n </defs>\n</svg>\n",
      "image/png": "[encoded data removed]"
     },
     "metadata": {
      "needs_background": "light"
     }
    }
   ],
   "source": [
    "sorted_data.plot.scatter(x=INDICATOR_1, y=INDICATOR_2)\n"
   ]
  },
  {
   "source": [
    "In this cell we will extract the two data columns from the DataFrame object as Series objects, and then use the Series method to see how well the correlate to eachother."
   ],
   "cell_type": "markdown",
   "metadata": {}
  },
  {
   "cell_type": "code",
   "execution_count": 17,
   "metadata": {},
   "outputs": [
    {
     "output_type": "stream",
     "name": "stdout",
     "text": [
      "the correlation between percentage of governent expenditure on education, and percentage of kids starting first grade 0.4020483769528363\n"
     ]
    }
   ],
   "source": [
    "left_column = sorted_data[INDICATOR_1]\n",
    "right_column = sorted_data[INDICATOR_2]\n",
    "\n",
    "print(f\"the correlation between percentage of governent expenditure on education, and percentage of kids starting first grade {right_column.corr(left_column)}\")\n",
    "\n"
   ]
  },
  {
   "source": [
    "going to try to find the best correlations"
   ],
   "cell_type": "markdown",
   "metadata": {}
  },
  {
   "cell_type": "code",
   "execution_count": 19,
   "metadata": {
    "tags": []
   },
   "outputs": [
    {
     "output_type": "stream",
     "name": "stdout",
     "text": [
      "For SE.XPD.TOTL.GB.ZS vs SE.COM.DURS, r = 0.19653739452428648\n",
      "For SE.XPD.TOTL.GB.ZS vs SE.ENR.PRIM.FM.ZS, r = -0.0495182400619782\n",
      "For SE.XPD.TOTL.GB.ZS vs SE.ENR.PRSC.FM.ZS, r = -0.06752574893183656\n",
      "For SE.XPD.TOTL.GB.ZS vs SE.ENR.SECO.FM.ZS, r = -0.051604035364008254\n",
      "For SE.XPD.TOTL.GB.ZS vs SE.ENR.TERT.FM.ZS, r = -0.2749540051756386\n",
      "For SE.XPD.TOTL.GB.ZS vs SE.PRE.DURS, r = -0.2084858037597578\n",
      "For SE.XPD.TOTL.GB.ZS vs SE.PRE.ENRL.TC.ZS, r = -0.13901005371461392\n",
      "For SE.XPD.TOTL.GB.ZS vs SE.PRE.ENRR, r = 0.015299023044908608\n",
      "For SE.XPD.TOTL.GB.ZS vs SE.PRE.ENRR.FE, r = 0.0183899516004527\n",
      "For SE.XPD.TOTL.GB.ZS vs SE.PRE.ENRR.MA, r = 0.012357539650711506\n",
      "For SE.XPD.TOTL.GB.ZS vs SE.PRM.AGES, r = -0.048763936988895064\n",
      "For SE.XPD.TOTL.GB.ZS vs SE.PRM.CMPT.FE.ZS, r = -0.24879251468884128\n",
      "For SE.XPD.TOTL.GB.ZS vs SE.PRM.CMPT.MA.ZS, r = -0.23780653525432402\n",
      "For SE.XPD.TOTL.GB.ZS vs SE.PRM.CMPT.ZS, r = -0.2480200813002227\n",
      "For SE.XPD.TOTL.GB.ZS vs SE.PRM.DURS, r = 0.2914833413403594\n",
      "For SE.XPD.TOTL.GB.ZS vs SE.PRM.ENRL, r = -0.020032483566292583\n",
      "For SE.XPD.TOTL.GB.ZS vs SE.PRM.ENRL.FE.ZS, r = 0.2848036884159373\n",
      "For SE.XPD.TOTL.GB.ZS vs SE.PRM.ENRL.TC.ZS, r = 0.10573439420373315\n",
      "For SE.XPD.TOTL.GB.ZS vs SE.PRM.ENRR, r = 0.12427344753663197\n",
      "For SE.XPD.TOTL.GB.ZS vs SE.PRM.ENRR.FE, r = 0.11397861221687226\n",
      "For SE.XPD.TOTL.GB.ZS vs SE.PRM.ENRR.MA, r = 0.12943998601763432\n",
      "For SE.XPD.TOTL.GB.ZS vs SE.PRM.GINT.FE.ZS, r = 0.41456851378467474\n",
      "For SE.XPD.TOTL.GB.ZS vs SE.PRM.GINT.MA.ZS, r = 0.37963267661649547\n",
      "For SE.XPD.TOTL.GB.ZS vs SE.PRM.GINT.ZS, r = 0.4020483769528363\n",
      "For SE.XPD.TOTL.GB.ZS vs SE.PRM.NENR, r = -0.03809954537784634\n",
      "For SE.XPD.TOTL.GB.ZS vs SE.PRM.OENR.FE.ZS, r = 0.04002378158675317\n",
      "For SE.XPD.TOTL.GB.ZS vs SE.PRM.OENR.MA.ZS, r = 0.020739038608482776\n",
      "For SE.XPD.TOTL.GB.ZS vs SE.PRM.OENR.ZS, r = 0.030190591356593088\n",
      "For SE.XPD.TOTL.GB.ZS vs SE.PRM.PRIV.ZS, r = 0.09720957724546116\n",
      "For SE.XPD.TOTL.GB.ZS vs SE.PRM.PRSL.FE.ZS, r = -0.47653658681560457\n",
      "For SE.XPD.TOTL.GB.ZS vs SE.PRM.PRSL.MA.ZS, r = -0.4476401063583662\n",
      "For SE.XPD.TOTL.GB.ZS vs SE.PRM.PRSL.ZS, r = -0.46424930509053813\n",
      "For SE.XPD.TOTL.GB.ZS vs SE.PRM.REPT.FE.ZS, r = 0.09897131951214432\n",
      "For SE.XPD.TOTL.GB.ZS vs SE.PRM.REPT.MA.ZS, r = 0.08127716983369011\n",
      "For SE.XPD.TOTL.GB.ZS vs SE.PRM.REPT.ZS, r = 0.11140335902485445\n",
      "For SE.XPD.TOTL.GB.ZS vs SE.PRM.TCHR, r = -0.07897754219824484\n",
      "For SE.XPD.TOTL.GB.ZS vs SE.PRM.TCHR.FE.ZS, r = -0.2889295560181329\n",
      "For SE.XPD.TOTL.GB.ZS vs SE.PRM.TENR, r = -0.09402872350793974\n",
      "For SE.XPD.TOTL.GB.ZS vs SE.PRM.UNER, r = 0.08494292244310214\n",
      "For SE.XPD.TOTL.GB.ZS vs SE.PRM.UNER.FE, r = 0.139017721038756\n",
      "For SE.XPD.TOTL.GB.ZS vs SE.PRM.UNER.FE.ZS, r = 0.20681083238016063\n",
      "For SE.XPD.TOTL.GB.ZS vs SE.PRM.UNER.MA, r = 0.14104627854318796\n",
      "For SE.XPD.TOTL.GB.ZS vs SE.PRM.UNER.MA.ZS, r = 0.14115560367378416\n",
      "For SE.XPD.TOTL.GB.ZS vs SE.PRM.UNER.ZS, r = 0.07143522904672596\n",
      "For SE.XPD.TOTL.GB.ZS vs SE.SEC.AGES, r = 0.2082872344694657\n",
      "For SE.XPD.TOTL.GB.ZS vs SE.SEC.CMPT.LO.FE.ZS, r = -0.2597015150980743\n",
      "For SE.XPD.TOTL.GB.ZS vs SE.SEC.CMPT.LO.MA.ZS, r = -0.26970381773125357\n",
      "For SE.XPD.TOTL.GB.ZS vs SE.SEC.CMPT.LO.ZS, r = -0.2667475931851742\n",
      "For SE.XPD.TOTL.GB.ZS vs SE.SEC.DURS, r = -0.14202827843607152\n",
      "For SE.XPD.TOTL.GB.ZS vs SE.SEC.ENRL, r = -0.06484218125556805\n",
      "For SE.XPD.TOTL.GB.ZS vs SE.SEC.ENRL.FE.ZS, r = 0.07175708570032124\n",
      "For SE.XPD.TOTL.GB.ZS vs SE.SEC.ENRL.GC, r = -0.06411893419705363\n",
      "For SE.XPD.TOTL.GB.ZS vs SE.SEC.ENRL.GC.FE.ZS, r = -0.10656019796657736\n",
      "For SE.XPD.TOTL.GB.ZS vs SE.SEC.ENRL.LO.TC.ZS, r = 0.0028572384645330433\n",
      "For SE.XPD.TOTL.GB.ZS vs SE.SEC.ENRL.TC.ZS, r = -0.03771305363899047\n",
      "For SE.XPD.TOTL.GB.ZS vs SE.SEC.ENRL.VO, r = -0.16912805466970804\n",
      "For SE.XPD.TOTL.GB.ZS vs SE.SEC.ENRL.VO.FE.ZS, r = -0.012720877134537394\n",
      "For SE.XPD.TOTL.GB.ZS vs SE.SEC.ENRR, r = -0.08754270286833594\n",
      "For SE.XPD.TOTL.GB.ZS vs SE.SEC.ENRR.FE, r = -0.08124002521973954\n",
      "For SE.XPD.TOTL.GB.ZS vs SE.SEC.ENRR.MA, r = -0.0931625227523349\n",
      "For SE.XPD.TOTL.GB.ZS vs SE.SEC.NENR, r = -0.2928474541392083\n",
      "For SE.XPD.TOTL.GB.ZS vs SE.SEC.NENR.FE, r = -0.27096244065510183\n",
      "For SE.XPD.TOTL.GB.ZS vs SE.SEC.NENR.MA, r = -0.2855597802434943\n",
      "For SE.XPD.TOTL.GB.ZS vs SE.SEC.PRIV.ZS, r = 0.18978027947682158\n",
      "For SE.XPD.TOTL.GB.ZS vs SE.SEC.PROG.FE.ZS, r = nan\n",
      "For SE.XPD.TOTL.GB.ZS vs SE.SEC.PROG.MA.ZS, r = nan\n",
      "For SE.XPD.TOTL.GB.ZS vs SE.SEC.PROG.ZS, r = nan\n",
      "For SE.XPD.TOTL.GB.ZS vs SE.SEC.TCHR, r = -0.11866483332271835\n",
      "For SE.XPD.TOTL.GB.ZS vs SE.SEC.TCHR.FE, r = -0.16170883947327738\n",
      "For SE.XPD.TOTL.GB.ZS vs SE.SEC.TCHR.FE.ZS, r = -0.22720096135957554\n",
      "For SE.XPD.TOTL.GB.ZS vs SE.TER.ENRR, r = -0.11644261213265483\n",
      "For SE.XPD.TOTL.GB.ZS vs SE.TER.ENRR.FE, r = -0.14122858482334738\n",
      "For SE.XPD.TOTL.GB.ZS vs SE.TER.ENRR.MA, r = -0.08393490787857635\n",
      "For SE.XPD.TOTL.GB.ZS vs SE.XPD.PRIM.ZS, r = -0.11050281739700234\n",
      "For SE.XPD.TOTL.GB.ZS vs SE.XPD.SECO.ZS, r = -0.4999649974292707\n",
      "For SE.XPD.TOTL.GB.ZS vs SE.XPD.TERT.ZS, r = 0.5051993936331531\n",
      "For SE.XPD.TOTL.GB.ZS vs SE.XPD.TOTL.GD.ZS, r = 0.5826392583178628\n",
      "For SE.XPD.TOTL.GB.ZS vs SH.DTH.0509, r = 0.04508625641745096\n",
      "For SE.XPD.TOTL.GB.ZS vs SH.DTH.1014, r = 0.03803277743665136\n",
      "For SE.XPD.TOTL.GB.ZS vs SH.DTH.1519, r = 0.030823465680733384\n",
      "For SE.XPD.TOTL.GB.ZS vs SH.DTH.2024, r = 0.02570515341127099\n",
      "For SE.XPD.TOTL.GB.ZS vs SH.DYN.0509, r = 0.19191937945521195\n",
      "For SE.XPD.TOTL.GB.ZS vs SH.DYN.1014, r = 0.1996538950894911\n",
      "For SE.XPD.TOTL.GB.ZS vs SH.DYN.1519, r = 0.18712829051469984\n",
      "For SE.XPD.TOTL.GB.ZS vs SH.DYN.2024, r = 0.2766195207277457\n",
      "For SE.XPD.TOTL.GB.ZS vs SL.TLF.TOTL.FE.ZS, r = -0.10721177169040336\n",
      "For SE.XPD.TOTL.GB.ZS vs SL.TLF.TOTL.IN, r = -0.07782202450193097\n",
      "For SE.XPD.TOTL.GB.ZS vs SL.UEM.TOTL.FE.ZS, r = -0.0013728484073469466\n",
      "For SE.XPD.TOTL.GB.ZS vs SL.UEM.TOTL.MA.ZS, r = -0.014256314585262352\n",
      "For SE.XPD.TOTL.GB.ZS vs SL.UEM.TOTL.ZS, r = -0.009842961767470838\n",
      "For SE.XPD.TOTL.GB.ZS vs SP.POP.0014.TO.ZS, r = 0.13382085872170843\n",
      "For SE.XPD.TOTL.GB.ZS vs SP.POP.1564.TO.ZS, r = -0.11438429081921375\n"
     ]
    }
   ],
   "source": [
    "# results: list[float] = []\n",
    "for label in data_table.columns:\n",
    "    if (label != \"Country\") & (label != INDICATOR_1):\n",
    "        selected_data = data_table[[\"Country\", INDICATOR_1, label]]\n",
    "        complete_data = selected_data[selected_data[INDICATOR_1].notna() & selected_data[label].notna()]\n",
    "        sorted_data = complete_data.sort_values(by = INDICATOR_1, ascending = False)\n",
    "        left_column = sorted_data[INDICATOR_1]\n",
    "        right_column = sorted_data[label]\n",
    "        print(f\"For {INDICATOR_1} vs {label}, r = {right_column.corr(left_column)}\")\n",
    "        # results.append(right_column.corr(left_column))\n",
    "\n",
    "# print(results)\n"
   ]
  },
  {
   "cell_type": "code",
   "execution_count": null,
   "metadata": {},
   "outputs": [],
   "source": []
  }
 ]
}