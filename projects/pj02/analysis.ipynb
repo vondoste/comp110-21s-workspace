{
 "metadata": {
  "language_info": {
   "codemirror_mode": {
    "name": "ipython",
    "version": 3
   },
   "file_extension": ".py",
   "mimetype": "text/x-python",
   "name": "python",
   "nbconvert_exporter": "python",
   "pygments_lexer": "ipython3",
   "version": 3
  },
  "orig_nbformat": 2
 },
 "nbformat": 4,
 "nbformat_minor": 2,
 "cells": [
  {
   "source": [
    "# State Hypothesis Here\n",
    "\n",
    "talk about what two indicators you are looking for a correlation between."
   ],
   "cell_type": "markdown",
   "metadata": {}
  },
  {
   "cell_type": "code",
   "execution_count": null,
   "metadata": {},
   "outputs": [],
   "source": [
    "\"\"\"\n",
    "Import pandas library as pd.\n",
    "\n",
    "declare a named constant for each of the two indicator code strings that you are exploring.\n",
    "\"\"\""
   ]
  },
  {
   "source": [
    "Each code cell must be preceded by a markdown cell explaining what you are doing and why."
   ],
   "cell_type": "markdown",
   "metadata": {}
  },
  {
   "cell_type": "code",
   "execution_count": null,
   "metadata": {},
   "outputs": [],
   "source": [
    "\"\"\"The markdown cell before the code cell must explain what you are doing and why.\"\"\""
   ]
  },
  {
   "source": [
    "# Last cell must be a conclusion paragraph"
   ],
   "cell_type": "markdown",
   "metadata": {}
  }
 ]
}