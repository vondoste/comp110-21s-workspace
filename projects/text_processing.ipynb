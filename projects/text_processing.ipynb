{
 "metadata": {
  "language_info": {
   "codemirror_mode": {
    "name": "ipython",
    "version": 3
   },
   "file_extension": ".py",
   "mimetype": "text/x-python",
   "name": "python",
   "nbconvert_exporter": "python",
   "pygments_lexer": "ipython3",
   "version": "3.9.1-final"
  },
  "orig_nbformat": 2,
  "kernelspec": {
   "name": "python3",
   "display_name": "Python 3.9.1 64-bit",
   "metadata": {
    "interpreter": {
     "hash": "4cd7ab41f5fca4b9b44701077e38c5ffd31fe66a6cab21e0214b68d958d0e462"
    }
   }
  }
 },
 "nbformat": 4,
 "nbformat_minor": 2,
 "cells": [
  {
   "source": [
    "# Read in the King James Bible\n",
    "\n",
    "each line of the document is a string in the list."
   ],
   "cell_type": "markdown",
   "metadata": {}
  },
  {
   "cell_type": "code",
   "execution_count": 56,
   "metadata": {},
   "outputs": [
    {
     "output_type": "stream",
     "name": "stdout",
     "text": [
      "99802 lines of text read in\n"
     ]
    }
   ],
   "source": [
    "lines: list[str] = []\n",
    "file_handle = open(\"../data/King James Bible.txt\", \"r\", encoding=\"utf8\")\n",
    "\n",
    "# Make each line a string in the list\n",
    "for line in file_handle:\n",
    "    lines.append(line)\n",
    "\n",
    "file_handle.close()\n",
    "print(f\"{len(lines)} lines of text read in\")"
   ]
  },
  {
   "source": [
    "Make a list containing the books of the Bible and a list containing the number of chapters in each book in the same order"
   ],
   "cell_type": "markdown",
   "metadata": {}
  },
  {
   "cell_type": "code",
   "execution_count": 57,
   "metadata": {},
   "outputs": [
    {
     "output_type": "stream",
     "name": "stdout",
     "text": [
      "books_of_bible contains 66 entries.\nchapters_of_bible contains 66 entries.\n"
     ]
    }
   ],
   "source": [
    "books_of_bible: list[str] = [\"Genesis\", \"Exodus\", \"Leviticus\", \"Numbers\", \"Deuteronomy\", \"Joshua\", \"Judges\", \"Ruth\", \"1st Samuel\", \"2nd Samuel\", \"1st Kings\", \"2nd Kings\", \"1st Chronicles\", \"2nd Chronicles\", \"Ezra\", \"Nehemiah\", \"Esther\", \"Job\", \"Psalms\", \"Proverbs\", \"Ecclesiastes\", \"Song of Solomon\", \"Isaiah\", \"Jeremiah\", \"Lamentations\", \"Ezekiel\", \"Daniel\", \"Hosea\", \"Joel\", \"Amos\", \"Obadiah\", \"Jonah\", \"Micah\", \"Nahum\", \"Habakkuk\", \"Zephaniah\", \"Haggai\", \"Zechariah\", \"Malachi\", \"Matthew\", \"Mark\", \"Luke\", \"John\", \"Acts\", \"Romans\", \"1st Corinthians\", \"2nd Corinthians\", \"Galatians\", \"Ephesians\", \"Philippians\", \"Colossians\", \"1st Thessalonians\", \"2nd Thessalonians\", \"1st Timothy\", \"2nd Timothy\", \"Titus\", \"Philemon\", \"Hebrews\", \"James\", \"1st Peter\", \"2nd Peter\", \"1st John\", \"2nd John\", \"3rd John\", \"Jude\", \"Revelation\"]\n",
    "\n",
    "chapters_of_bible: list[int] = [50, 40, 27, 36, 34, 24, 21, 4, 31, 24, 22, 25, 29, 36, 10, 13, 10, 42, 150, 31, 12, 8, 66, 52, 5, 48, 12, 14, 3, 9, 1, 4, 7, 3, 3, 3, 2, 14, 4, 28, 16, 24, 21, 28, 16, 16, 13, 6, 6, 4, 4, 5, 3, 6, 4, 3, 1, 13, 5, 5, 3, 5, 1, 1, 1, 22]\n",
    "\n",
    "print(f\"books_of_bible contains {len(books_of_bible)} entries.\")\n",
    "print(f\"chapters_of_bible contains {len(chapters_of_bible)} entries.\")\n"
   ]
  },
  {
   "source": [
    "# Build a data structure to hold our text"
   ],
   "cell_type": "markdown",
   "metadata": {}
  },
  {
   "cell_type": "code",
   "execution_count": 58,
   "metadata": {},
   "outputs": [
    {
     "output_type": "execute_result",
     "data": {
      "text/plain": [
       "dict"
      ]
     },
     "metadata": {},
     "execution_count": 58
    }
   ],
   "source": [
    "bible: dict[str, dict[int, list[str]]] = {}\n",
    "\n",
    "for i in range(len(books_of_bible)):\n",
    "    book: dict[int, dict[int, str]] = {}\n",
    "    for j in range(chapters_of_bible[i]):\n",
    "        book[j] = {}\n",
    "    bible[books_of_bible[i]] = book\n",
    "\n",
    "type(bible)"
   ]
  },
  {
   "source": [
    "# try to fill data structure with text."
   ],
   "cell_type": "markdown",
   "metadata": {}
  },
  {
   "cell_type": "code",
   "execution_count": 62,
   "metadata": {},
   "outputs": [],
   "source": [
    "book_counter: int = 0\n",
    "chapter_counter: int = 0\n",
    "line_counter: int = 0\n",
    "books_start_line: list[int] = []\n",
    "book: str = \"\"\n",
    "\n",
    "for i in range(len(lines)):\n",
    "    line_counter += 1\n",
    "    if book_counter < len(books_of_bible):\n",
    "        if books_of_bible[book_counter] in lines[i]:\n",
    "            book = books_of_bible[book_counter]\n",
    "            books_start_line.append(line_counter)\n",
    "            book_counter +=1\n",
    "\n",
    "\n"
   ]
  },
  {
   "source": [
    "# Putting the lists together"
   ],
   "cell_type": "markdown",
   "metadata": {}
  },
  {
   "cell_type": "code",
   "execution_count": 64,
   "metadata": {},
   "outputs": [
    {
     "output_type": "stream",
     "name": "stdout",
     "text": [
      "Genesis has 50 chapter(s) and starts on line# 2 \nExodus has 40 chapter(s) and starts on line# 4773 \nLeviticus has 27 chapter(s) and starts on line# 8828 \nNumbers has 36 chapter(s) and starts on line# 11710 \nDeuteronomy has 34 chapter(s) and starts on line# 15682 \nJoshua has 24 chapter(s) and starts on line# 15799 \nJudges has 21 chapter(s) and starts on line# 17229 \nRuth has 4 chapter(s) and starts on line# 23304 \n1st Samuel has 31 chapter(s) and starts on line# 23608 \n2nd Samuel has 24 chapter(s) and starts on line# 26596 \n1st Kings has 22 chapter(s) and starts on line# 29047 \n2nd Kings has 25 chapter(s) and starts on line# 31940 \n1st Chronicles has 29 chapter(s) and starts on line# 34657 \n2nd Chronicles has 36 chapter(s) and starts on line# 37327 \nEzra has 10 chapter(s) and starts on line# 40451 \nNehemiah has 13 chapter(s) and starts on line# 40498 \nEsther has 10 chapter(s) and starts on line# 42659 \nJob has 42 chapter(s) and starts on line# 43301 \nPsalms has 150 chapter(s) and starts on line# 45886 \nProverbs has 31 chapter(s) and starts on line# 53486 \nEcclesiastes has 12 chapter(s) and starts on line# 55960 \nSong of Solomon has 8 chapter(s) and starts on line# 56659 \nIsaiah has 66 chapter(s) and starts on line# 57025 \nJeremiah has 52 chapter(s) and starts on line# 61499 \nLamentations has 5 chapter(s) and starts on line# 66429 \nEzekiel has 48 chapter(s) and starts on line# 66910 \nDaniel has 12 chapter(s) and starts on line# 67925 \nHosea has 14 chapter(s) and starts on line# 72882 \nJoel has 3 chapter(s) and starts on line# 73569 \nAmos has 9 chapter(s) and starts on line# 73823 \nObadiah has 1 chapter(s) and starts on line# 74308 \nJonah has 4 chapter(s) and starts on line# 74390 \nMicah has 7 chapter(s) and starts on line# 74553 \nNahum has 3 chapter(s) and starts on line# 74934 \nHabakkuk has 3 chapter(s) and starts on line# 75109 \nZephaniah has 3 chapter(s) and starts on line# 75297 \nHaggai has 2 chapter(s) and starts on line# 75499 \nZechariah has 14 chapter(s) and starts on line# 75625 \nMalachi has 4 chapter(s) and starts on line# 76377 \nMatthew has 28 chapter(s) and starts on line# 76595 \nMark has 16 chapter(s) and starts on line# 79657 \nLuke has 24 chapter(s) and starts on line# 81629 \nJohn has 21 chapter(s) and starts on line# 81667 \nActs has 28 chapter(s) and starts on line# 87492 \nRomans has 16 chapter(s) and starts on line# 89232 \n1st Corinthians has 16 chapter(s) and starts on line# 91800 \n2nd Corinthians has 13 chapter(s) and starts on line# 93014 \nGalatians has 6 chapter(s) and starts on line# 93779 \nEphesians has 6 chapter(s) and starts on line# 94206 \nPhilippians has 4 chapter(s) and starts on line# 94561 \nColossians has 4 chapter(s) and starts on line# 94845 \n1st Thessalonians has 5 chapter(s) and starts on line# 95094 \n2nd Thessalonians has 3 chapter(s) and starts on line# 95338 \n1st Timothy has 6 chapter(s) and starts on line# 95463 \n2nd Timothy has 4 chapter(s) and starts on line# 95781 \nTitus has 3 chapter(s) and starts on line# 95972 \nPhilemon has 1 chapter(s) and starts on line# 96131 \nHebrews has 13 chapter(s) and starts on line# 96191 \nJames has 5 chapter(s) and starts on line# 97061 \n1st Peter has 5 chapter(s) and starts on line# 97378 \n2nd Peter has 3 chapter(s) and starts on line# 97667 \n1st John has 5 chapter(s) and starts on line# 97854 \n2nd John has 1 chapter(s) and starts on line# 98197 \n3rd John has 1 chapter(s) and starts on line# 98243 \nJude has 1 chapter(s) and starts on line# 98288 \nRevelation has 22 chapter(s) and starts on line# 98375 \n"
     ]
    }
   ],
   "source": [
    "for i in range(len(books_of_bible)):\n",
    "    print(f\"{books_of_bible[i]} has {chapters_of_bible[i]} chapter(s) and starts on line# {books_start_line[i]} \")\n"
   ]
  }
 ]
}