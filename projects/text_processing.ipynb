{
 "metadata": {
  "language_info": {
   "codemirror_mode": {
    "name": "ipython",
    "version": 3
   },
   "file_extension": ".py",
   "mimetype": "text/x-python",
   "name": "python",
   "nbconvert_exporter": "python",
   "pygments_lexer": "ipython3",
   "version": "3.9.1-final"
  },
  "orig_nbformat": 2,
  "kernelspec": {
   "name": "python3",
   "display_name": "Python 3.9.1 64-bit",
   "metadata": {
    "interpreter": {
     "hash": "4cd7ab41f5fca4b9b44701077e38c5ffd31fe66a6cab21e0214b68d958d0e462"
    }
   }
  }
 },
 "nbformat": 4,
 "nbformat_minor": 2,
 "cells": [
  {
   "source": [
    "# Read in the King James Bible\n",
    "\n",
    "each line of the document is a string in the list."
   ],
   "cell_type": "markdown",
   "metadata": {}
  },
  {
   "cell_type": "code",
   "execution_count": 51,
   "metadata": {},
   "outputs": [
    {
     "output_type": "stream",
     "name": "stdout",
     "text": [
      "99802 lines of text read in\n"
     ]
    }
   ],
   "source": [
    "lines: list[str] = []\n",
    "file_handle = open(\"../data/King James Bible.txt\", \"r\", encoding=\"utf8\")\n",
    "\n",
    "# Make each line a string in the list\n",
    "for line in file_handle:\n",
    "    lines.append(line)\n",
    "\n",
    "file_handle.close()\n",
    "print(f\"{len(lines)} lines of text read in\")"
   ]
  },
  {
   "source": [
    "Make a list containing the books of the Bible and a list containing the number of chapters in each book in the same order"
   ],
   "cell_type": "markdown",
   "metadata": {}
  },
  {
   "cell_type": "code",
   "execution_count": 52,
   "metadata": {},
   "outputs": [
    {
     "output_type": "stream",
     "name": "stdout",
     "text": [
      "books_of_bible contains 66 entries.\nchapters_of_bible contains 66 entries.\n"
     ]
    }
   ],
   "source": [
    "books_of_bible: list[str] = [\"Genesis\", \"Exodus\", \"Leviticus\", \"Numbers\", \"Deuteronomy\", \"Joshua\", \"Judges\", \"Ruth\", \"1st Samuel\", \"2nd Samuel\", \"1st Kings\", \"2nd Kings\", \"1st Chronicles\", \"2nd Chronicles\", \"Ezra\", \"Nehemiah\", \"Esther\", \"Job\", \"Psalms\", \"Proverbs\", \"Ecclesiastes\", \"Song of Solomon\", \"Isaiah\", \"Jeremiah\", \"Lamentations\", \"Ezekiel\", \"Daniel\", \"Hosea\", \"Joel\", \"Amos\", \"Obadiah\", \"Jonah\", \"Micah\", \"Nahum\", \"Habakkuk\", \"Zephaniah\", \"Haggai\", \"Zechariah\", \"Malachi\", \"Matthew\", \"Mark\", \"Luke\", \"John\", \"Acts\", \"Romans\", \"1st Corinthians\", \"2nd Corinthians\", \"Galatians\", \"Ephesians\", \"Philippians\", \"Colossians\", \"1st Thessalonians\", \"2nd Thessalonians\", \"1st Timothy\", \"2nd Timothy\", \"Titus\", \"Philemon\", \"Hebrews\", \"James\", \"1st Peter\", \"2nd Peter\", \"1st John\", \"2nd John\", \"3rd John\", \"Jude\", \"Revelation\"]\n",
    "\n",
    "chapters_of_bible: list[int] = [50, 40, 27, 36, 34, 24, 21, 4, 31, 24, 22, 25, 29, 36, 10, 13, 10, 42, 150, 31, 12, 8, 66, 52, 5, 48, 12, 14, 3, 9, 1, 4, 7, 3, 3, 3, 2, 14, 4, 28, 16, 24, 21, 28, 16, 16, 13, 6, 6, 4, 4, 5, 3, 6, 4, 3, 1, 13, 5, 5, 3, 5, 1, 1, 1, 22]\n",
    "\n",
    "print(f\"books_of_bible contains {len(books_of_bible)} entries.\")\n",
    "print(f\"chapters_of_bible contains {len(chapters_of_bible)} entries.\")\n"
   ]
  },
  {
   "source": [
    "# Build a data structure to hold our text"
   ],
   "cell_type": "markdown",
   "metadata": {}
  },
  {
   "cell_type": "code",
   "execution_count": 53,
   "metadata": {},
   "outputs": [
    {
     "output_type": "execute_result",
     "data": {
      "text/plain": [
       "dict"
      ]
     },
     "metadata": {},
     "execution_count": 53
    }
   ],
   "source": [
    "bible: dict[str, dict[int, list[str]]] = {}\n",
    "\n",
    "for i in range(len(books_of_bible)):\n",
    "    book: dict[int, dict[int, str]] = {}\n",
    "    for j in range(chapters_of_bible[i]):\n",
    "        book[j] = {}\n",
    "    bible[books_of_bible[i]] = book\n",
    "\n",
    "type(bible)"
   ]
  },
  {
   "source": [
    "# Find the starting line number for each book."
   ],
   "cell_type": "markdown",
   "metadata": {}
  },
  {
   "cell_type": "code",
   "execution_count": 54,
   "metadata": {},
   "outputs": [],
   "source": [
    "book_counter: int = 0\n",
    "chapter_counter: int = 0\n",
    "line_counter: int = 0\n",
    "books_start_line: list[int] = []\n",
    "book: str = \"\"\n",
    "\n",
    "for i in range(len(lines)):\n",
    "    line_counter += 1\n",
    "    if book_counter < len(books_of_bible):\n",
    "        if books_of_bible[book_counter] in lines[i]:\n",
    "            book = books_of_bible[book_counter]\n",
    "            books_start_line.append(line_counter)\n",
    "            book_counter +=1\n",
    "\n",
    "\n"
   ]
  },
  {
   "source": [
    "# Putting the lists together"
   ],
   "cell_type": "markdown",
   "metadata": {}
  },
  {
   "cell_type": "code",
   "execution_count": 55,
   "metadata": {},
   "outputs": [
    {
     "output_type": "stream",
     "name": "stdout",
     "text": [
      "Genesis has 50 chapter(s) and starts on line# 2 \n",
      "Exodus has 40 chapter(s) and starts on line# 4773 \n",
      "Leviticus has 27 chapter(s) and starts on line# 8828 \n",
      "Numbers has 36 chapter(s) and starts on line# 11710 \n",
      "Deuteronomy has 34 chapter(s) and starts on line# 15682 \n",
      "Joshua has 24 chapter(s) and starts on line# 15799 \n",
      "Judges has 21 chapter(s) and starts on line# 17229 \n",
      "Ruth has 4 chapter(s) and starts on line# 23304 \n",
      "1st Samuel has 31 chapter(s) and starts on line# 23608 \n",
      "2nd Samuel has 24 chapter(s) and starts on line# 26596 \n",
      "1st Kings has 22 chapter(s) and starts on line# 29047 \n",
      "2nd Kings has 25 chapter(s) and starts on line# 31940 \n",
      "1st Chronicles has 29 chapter(s) and starts on line# 34657 \n",
      "2nd Chronicles has 36 chapter(s) and starts on line# 37327 \n",
      "Ezra has 10 chapter(s) and starts on line# 40451 \n",
      "Nehemiah has 13 chapter(s) and starts on line# 40498 \n",
      "Esther has 10 chapter(s) and starts on line# 42659 \n",
      "Job has 42 chapter(s) and starts on line# 43301 \n",
      "Psalms has 150 chapter(s) and starts on line# 45886 \n",
      "Proverbs has 31 chapter(s) and starts on line# 53486 \n",
      "Ecclesiastes has 12 chapter(s) and starts on line# 55960 \n",
      "Song of Solomon has 8 chapter(s) and starts on line# 56659 \n",
      "Isaiah has 66 chapter(s) and starts on line# 57025 \n",
      "Jeremiah has 52 chapter(s) and starts on line# 61499 \n",
      "Lamentations has 5 chapter(s) and starts on line# 66429 \n",
      "Ezekiel has 48 chapter(s) and starts on line# 66910 \n",
      "Daniel has 12 chapter(s) and starts on line# 67925 \n",
      "Hosea has 14 chapter(s) and starts on line# 72882 \n",
      "Joel has 3 chapter(s) and starts on line# 73569 \n",
      "Amos has 9 chapter(s) and starts on line# 73823 \n",
      "Obadiah has 1 chapter(s) and starts on line# 74308 \n",
      "Jonah has 4 chapter(s) and starts on line# 74390 \n",
      "Micah has 7 chapter(s) and starts on line# 74553 \n",
      "Nahum has 3 chapter(s) and starts on line# 74934 \n",
      "Habakkuk has 3 chapter(s) and starts on line# 75109 \n",
      "Zephaniah has 3 chapter(s) and starts on line# 75297 \n",
      "Haggai has 2 chapter(s) and starts on line# 75499 \n",
      "Zechariah has 14 chapter(s) and starts on line# 75625 \n",
      "Malachi has 4 chapter(s) and starts on line# 76377 \n",
      "Matthew has 28 chapter(s) and starts on line# 76595 \n",
      "Mark has 16 chapter(s) and starts on line# 79657 \n",
      "Luke has 24 chapter(s) and starts on line# 81629 \n",
      "John has 21 chapter(s) and starts on line# 81667 \n",
      "Acts has 28 chapter(s) and starts on line# 87492 \n",
      "Romans has 16 chapter(s) and starts on line# 89232 \n",
      "1st Corinthians has 16 chapter(s) and starts on line# 91800 \n",
      "2nd Corinthians has 13 chapter(s) and starts on line# 93014 \n",
      "Galatians has 6 chapter(s) and starts on line# 93779 \n",
      "Ephesians has 6 chapter(s) and starts on line# 94206 \n",
      "Philippians has 4 chapter(s) and starts on line# 94561 \n",
      "Colossians has 4 chapter(s) and starts on line# 94845 \n",
      "1st Thessalonians has 5 chapter(s) and starts on line# 95094 \n",
      "2nd Thessalonians has 3 chapter(s) and starts on line# 95338 \n",
      "1st Timothy has 6 chapter(s) and starts on line# 95463 \n",
      "2nd Timothy has 4 chapter(s) and starts on line# 95781 \n",
      "Titus has 3 chapter(s) and starts on line# 95972 \n",
      "Philemon has 1 chapter(s) and starts on line# 96131 \n",
      "Hebrews has 13 chapter(s) and starts on line# 96191 \n",
      "James has 5 chapter(s) and starts on line# 97061 \n",
      "1st Peter has 5 chapter(s) and starts on line# 97378 \n",
      "2nd Peter has 3 chapter(s) and starts on line# 97667 \n",
      "1st John has 5 chapter(s) and starts on line# 97854 \n",
      "2nd John has 1 chapter(s) and starts on line# 98197 \n",
      "3rd John has 1 chapter(s) and starts on line# 98243 \n",
      "Jude has 1 chapter(s) and starts on line# 98288 \n",
      "Revelation has 22 chapter(s) and starts on line# 98375 \n"
     ]
    }
   ],
   "source": [
    "for i in range(len(books_of_bible)):\n",
    "    print(f\"{books_of_bible[i]} has {chapters_of_bible[i]} chapter(s) and starts on line# {books_start_line[i]} \")\n"
   ]
  },
  {
   "source": [
    "# Make a dictionary of lists, an entry for each book of the Bible."
   ],
   "cell_type": "markdown",
   "metadata": {}
  },
  {
   "cell_type": "code",
   "execution_count": 56,
   "metadata": {},
   "outputs": [
    {
     "output_type": "stream",
     "name": "stdout",
     "text": [
      "66\ndict_keys(['Genesis', 'Exodus', 'Leviticus', 'Numbers', 'Deuteronomy', 'Joshua', 'Judges', 'Ruth', '1st Samuel', '2nd Samuel', '1st Kings', '2nd Kings', '1st Chronicles', '2nd Chronicles', 'Ezra', 'Nehemiah', 'Esther', 'Job', 'Psalms', 'Proverbs', 'Ecclesiastes', 'Song of Solomon', 'Isaiah', 'Jeremiah', 'Lamentations', 'Ezekiel', 'Daniel', 'Hosea', 'Joel', 'Amos', 'Obadiah', 'Jonah', 'Micah', 'Nahum', 'Habakkuk', 'Zephaniah', 'Haggai', 'Zechariah', 'Malachi', 'Matthew', 'Mark', 'Luke', 'John', 'Acts', 'Romans', '1st Corinthians', '2nd Corinthians', 'Galatians', 'Ephesians', 'Philippians', 'Colossians', '1st Thessalonians', '2nd Thessalonians', '1st Timothy', '2nd Timothy', 'Titus', 'Philemon', 'Hebrews', 'James', '1st Peter', '2nd Peter', '1st John', '2nd John', '3rd John', 'Jude', 'Revelation'])\n"
     ]
    }
   ],
   "source": [
    "def build_a_book(start: int, stop: int) -> list[str]:\n",
    "    \"\"\"Build a list from lines[start] to lines[stop]. Strip out blank lines.\"\"\"\n",
    "    i: int = start - 1\n",
    "    book: list[str] = []\n",
    "\n",
    "    while i < stop -1:\n",
    "        if lines[i] != \"\\n\":\n",
    "            book.append(lines[i])\n",
    "        i += 1\n",
    "\n",
    "    return book\n",
    "\n",
    "\n",
    "\n",
    "\n",
    "\n",
    "bible_books: dict[str, list[str]] = {}\n",
    "\n",
    "for i in range(len(books_of_bible)):\n",
    "    start: int = int(books_start_line[i])\n",
    "    if i == len(books_of_bible) - 1:\n",
    "        stop = int(len(lines))\n",
    "    else:\n",
    "        stop = int(books_start_line[i + 1])\n",
    "    \n",
    "    bible_books[books_of_bible[i]] = build_a_book(start, stop)\n",
    "\n",
    "print(len(bible_books))\n",
    "print(bible_books.keys())\n"
   ]
  },
  {
   "source": [
    "#  Time to seperate out multiple verses into seperate lines.\n",
    "\n",
    "verse numbers contain \":\" in them"
   ],
   "cell_type": "markdown",
   "metadata": {}
  },
  {
   "cell_type": "code",
   "execution_count": 57,
   "metadata": {},
   "outputs": [
    {
     "output_type": "stream",
     "name": "stdout",
     "text": [
      "We got a verse number here in 1:11 And God said, Let the earth bring forth grass, the herb yielding\n \n[]\n"
     ]
    }
   ],
   "source": [
    "def split_verses(line: str) -> list[str]:\n",
    "    \"\"\"Input a string, return a list[str] where each str is a seperate verse.\"\"\"\n",
    "    result: list[str] = []\n",
    "\n",
    "    if \":\" in line:\n",
    "        print(f\"We got a verse number here in {line} \")\n",
    "    else:\n",
    "        print(f\"No verse numbers in {line} \")\n",
    "    \n",
    "    return result\n",
    "\n",
    "\n",
    "print(split_verses(lines[34]))"
   ]
  },
  {
   "cell_type": "code",
   "execution_count": null,
   "metadata": {},
   "outputs": [],
   "source": []
  }
 ]
}