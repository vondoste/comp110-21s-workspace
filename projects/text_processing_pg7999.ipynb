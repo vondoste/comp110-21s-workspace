{
 "metadata": {
  "language_info": {
   "codemirror_mode": {
    "name": "ipython",
    "version": 3
   },
   "file_extension": ".py",
   "mimetype": "text/x-python",
   "name": "python",
   "nbconvert_exporter": "python",
   "pygments_lexer": "ipython3",
   "version": "3.9.1"
  },
  "orig_nbformat": 2,
  "kernelspec": {
   "name": "python391jvsc74a57bd04cd7ab41f5fca4b9b44701077e38c5ffd31fe66a6cab21e0214b68d958d0e462",
   "display_name": "Python 3.9.1 64-bit"
  },
  "metadata": {
   "interpreter": {
    "hash": "4cd7ab41f5fca4b9b44701077e38c5ffd31fe66a6cab21e0214b68d958d0e462"
   }
  }
 },
 "nbformat": 4,
 "nbformat_minor": 2,
 "cells": [
  {
   "source": [
    "# Read in the King James Bible\n",
    "\n",
    "each line of the document is a string in the list."
   ],
   "cell_type": "markdown",
   "metadata": {}
  },
  {
   "cell_type": "code",
   "execution_count": 85,
   "metadata": {},
   "outputs": [
    {
     "output_type": "stream",
     "name": "stdout",
     "text": [
      "109829 lines of text read in\n"
     ]
    }
   ],
   "source": [
    "lines: list[str] = []\n",
    "file_handle = open(\"../data/pg7999.txt\", \"r\", encoding=\"utf8\")\n",
    "\n",
    "# Make each line a string in the list\n",
    "for line in file_handle:\n",
    "    lines.append(line)\n",
    "\n",
    "file_handle.close()\n",
    "print(f\"{len(lines)} lines of text read in\")"
   ]
  },
  {
   "source": [
    "Make a list containing the books of the Bible and a list containing the number of chapters in each book in the same order"
   ],
   "cell_type": "markdown",
   "metadata": {}
  },
  {
   "cell_type": "code",
   "execution_count": 86,
   "metadata": {},
   "outputs": [
    {
     "output_type": "stream",
     "name": "stdout",
     "text": [
      "books_of_bible contains 66 entries.\nchapters_of_bible contains 66 entries.\n"
     ]
    }
   ],
   "source": [
    "books_of_bible: list[str] = []\n",
    "\n",
    "for line in lines:\n",
    "    if \"BOOK\" in line:\n",
    "        holding = line.strip('\\n')\n",
    "        books_of_bible.append(holding[8: len(holding)])\n",
    "\n",
    "chapters_of_bible: list[int] = [50, 40, 27, 36, 34, 24, 21, 4, 31, 24, 22, 25, 29, 36, 10, 13, 10, 42, 150, 31, 12, 8, 66, 52, 5, 48, 12, 14, 3, 9, 1, 4, 7, 3, 3, 3, 2, 14, 4, 28, 16, 24, 21, 28, 16, 16, 13, 6, 6, 4, 4, 5, 3, 6, 4, 3, 1, 13, 5, 5, 3, 5, 1, 1, 1, 22]\n",
    "\n",
    "print(f\"books_of_bible contains {len(books_of_bible)} entries.\")\n",
    "print(f\"chapters_of_bible contains {len(chapters_of_bible)} entries.\")\n",
    "\n"
   ]
  },
  {
   "source": [
    "# Build a data structure to hold our text\n",
    "\n",
    "This builds a dict where keys = book names and values = a dict where keys = chapter numbers and values = list of verses indexed to verse numbers."
   ],
   "cell_type": "markdown",
   "metadata": {}
  },
  {
   "cell_type": "code",
   "execution_count": 87,
   "metadata": {},
   "outputs": [],
   "source": [
    "bible: dict[str, dict[int, dict[int,str]]] = {}\n",
    "\n",
    "\n",
    "for i in range(len(books_of_bible)):\n",
    "    book: dict[int, dict[int, str]] = {}\n",
    "    for j in range(chapters_of_bible[i]):\n",
    "        book[j + 1] = {}\n",
    "    bible[books_of_bible[i]] = book"
   ]
  },
  {
   "source": [
    "# Build the data structure based on the index numbers at the beginning ofeach verse line in the text file.\n",
    "\n",
    "Each line that starts a \"verse\" begins with :\n",
    "\n",
    "BB:CCC:VVV\n",
    "\n",
    "BB = book number\n",
    "CCC = chapter number\n",
    "VVV = verse number"
   ],
   "cell_type": "markdown",
   "metadata": {}
  },
  {
   "cell_type": "code",
   "execution_count": 88,
   "metadata": {
    "tags": []
   },
   "outputs": [
    {
     "output_type": "stream",
     "name": "stdout",
     "text": [
      "הוהי\n"
     ]
    }
   ],
   "source": [
    "book: int = 0\n",
    "chapter: int = 0\n",
    "verse: int = 0\n",
    "\n",
    "print(the_name)\n",
    "\n",
    "\n",
    "for line in lines:\n",
    "    if len(line) > 2:  # skip empty lines\n",
    "        if \"BOOK \" not in line:  # ignore book name lines\n",
    "            if line[3: 6].isdigit():  # look for BB:CCC:VVV index, if present, populate appropriate variables.\n",
    "                book = int(line[0: 2]) - 1\n",
    "                chapter = int(line[3: 6])\n",
    "                verse = int(line[7: 10])\n",
    "                bible[books_of_bible[book]][chapter][verse] = line[11:].strip(\"\\n\") + \" \"\n",
    "            else:  # no, BB:CCC:VVV, append to end of previous line.  Trusting that all lines are in order.\n",
    "                bible[books_of_bible[book]][chapter][verse] += line.strip(\"\\n\") + \" \"\n",
    "\n"
   ]
  },
  {
   "source": [
    "## display a list of the book names."
   ],
   "cell_type": "markdown",
   "metadata": {}
  },
  {
   "cell_type": "code",
   "execution_count": 89,
   "metadata": {},
   "outputs": [
    {
     "output_type": "stream",
     "name": "stdout",
     "text": [
      "dict_keys(['Genesis', 'Exodus', 'Leviticus', 'Numbers', 'Deuteronomy', 'Joshua', 'Judges', 'Ruth', '1 Samuel', '2 Samuel', '1 Kings', '2 Kings', '1 Chronicles', '2 Chronicles', 'Ezra', 'Nehemiah', 'Esther', 'Job', 'Psalms', 'Proverbs', 'Ecclesiastes', 'Song of Solomon', 'Isaiah', 'Jeremiah', 'Lamentations', 'Ezekiel', 'Daniel', 'Hosea', 'Joel', 'Amos', 'Obadiah', 'Jonah', 'Micah', 'Nahum', 'Habakkuk', 'Zephaniah', 'Haggai', 'Zechariah', 'Malachi', 'Matthew', 'Mark', 'Luke', 'John', 'Acts', 'Romans', '1 Corinthians', '2 Corinthians', 'Galatians', 'Ephesians', 'Philippians', 'Colossians', '1 Thessalonians', '2 Thessalonians', '1 Timothy', '2 Timothy', 'Titus', 'Philemon', 'Hebrews', 'James', '1 Peter', '2 Peter', '1 John', '2 John', '3 John', 'Jude', 'Revelation'])\n"
     ]
    }
   ],
   "source": [
    "print(bible.keys())"
   ]
  },
  {
   "source": [
    "### Copy book name from above and paste in line below to retrieve a verse."
   ],
   "cell_type": "markdown",
   "metadata": {}
  },
  {
   "cell_type": "code",
   "execution_count": 90,
   "metadata": {
    "tags": []
   },
   "outputs": [
    {
     "output_type": "execute_result",
     "data": {
      "text/plain": [
       "'While we look not at the things which are seen, but at the things which are not seen: for the things which are seen are temporal; but the things which are not seen are eternal. '"
      ]
     },
     "metadata": {},
     "execution_count": 90
    }
   ],
   "source": [
    "bible[\"2 Corinthians\"][4][18]"
   ]
  },
  {
   "source": [
    "### To retrieve a chapter, this will iterate over every verse in a given book and chapter."
   ],
   "cell_type": "markdown",
   "metadata": {}
  },
  {
   "cell_type": "code",
   "execution_count": 94,
   "metadata": {},
   "outputs": [
    {
     "output_type": "stream",
     "name": "stdout",
     "text": [
      "Chapter 23\n1 יהוה is my shepherd; I shall not want. \n2 He maketh me to lie down in green pastures: he leadeth me beside the still waters. \n3 He restoreth my soul: he leadeth me in the paths of righteousness for his name's sake. \n4 Yea, though I walk through the valley of the shadow of death, I will fear no evil: for thou art with me; thy rod and thy staff they comfort me. \n5 Thou preparest a table before me in the presence of mine enemies: thou anointest my head with oil; my cup runneth over. \n6 Surely goodness and mercy shall follow me all the days of my life: and I will dwell in the house of יהוה for ever. \n"
     ]
    }
   ],
   "source": [
    "bk: str = \"Psalms\"\n",
    "chap: int = 23\n",
    "show_numbers: bool = True\n",
    "the_name: str = \"\\U000005d9\\U000005d4\\U000005d5\\U000005d4\"\n",
    "replace_the_name: bool = True\n",
    "\n",
    "if show_numbers:\n",
    "    print(f\"Chapter {chap}\")\n",
    "for line in bible[bk][chap].keys():\n",
    "    filtered: str = bible[bk][chap][line]\n",
    "    if replace_the_name:\n",
    "        if \"The LORD\" in filtered:\n",
    "            filtered = filtered.replace(\"The LORD\", the_name)\n",
    "        if \"the LORD\" in filtered:\n",
    "            filtered = filtered.replace(\"the LORD\", the_name)\n",
    "    if show_numbers:\n",
    "        print(f\"{line} {filtered}\")\n",
    "    else:\n",
    "        print(filtered)"
   ]
  },
  {
   "source": [
    "### To retrieve a whole book, this will iterate over every chapter and verse in a given book.\n",
    "\n",
    "Chapter and verse numbers can be toggled with the show_numbers flag."
   ],
   "cell_type": "markdown",
   "metadata": {}
  },
  {
   "cell_type": "code",
   "execution_count": 97,
   "metadata": {
    "tags": []
   },
   "outputs": [
    {
     "output_type": "stream",
     "name": "stdout",
     "text": [
      "Chapter 1\n1 The word of הוהי that came to Micah the Morasthite in the days of Jotham, Ahaz, and Hezekiah, kings of Judah, which he saw concerning Samaria and Jerusalem. \n2 Hear, all ye people; hearken, O earth, and all that therein is: and let the Lord GOD be witness against you, הוהי from his holy temple. \n3 For, behold, הוהי cometh forth out of his place, and will come down, and tread upon the high places of the earth. \n4 And the mountains shall be molten under him, and the valleys shall be cleft, as wax before the fire, and as the waters that are poured down a steep place. \n5 For the transgression of Jacob is all this, and for the sins of the house of Israel. What is the transgression of Jacob? is it not Samaria? and what are the high places of Judah? are they not Jerusalem? \n6 Therefore I will make Samaria as an heap of the field, and as plantings of a vineyard: and I will pour down the stones thereof into the valley, and I will discover the foundations thereof. \n7 And all the graven images thereof shall be beaten to pieces, and all the hires thereof shall be burned with the fire, and all the idols thereof will I lay desolate: for she gathered it of the hire of an harlot, and they shall return to the hire of an harlot. \n8 Therefore I will wail and howl, I will go stripped and naked: I will make a wailing like the dragons, and mourning as the owls. \n9 For her wound is incurable; for it is come unto Judah; he is come unto the gate of my people, even to Jerusalem. \n10 Declare ye it not at Gath, weep ye not at all: in the house of Aphrah roll thyself in the dust. \n11 Pass ye away, thou inhabitant of Saphir, having thy shame naked: the inhabitant of Zaanan came not forth in the mourning of Bethezel; he shall receive of you his standing. \n12 For the inhabitant of Maroth waited carefully for good: but evil came down from הוהי unto the gate of Jerusalem. \n13 O thou inhabitant of Lachish, bind the chariot to the swift beast: she is the beginning of the sin to the daughter of Zion: for the transgressions of Israel were found in thee. \n14 Therefore shalt thou give presents to Moreshethgath: the houses of Achzib shall be a lie to the kings of Israel. \n15 Yet will I bring an heir unto thee, O inhabitant of Mareshah: he shall come unto Adullam the glory of Israel. \n16 Make thee bald, and poll thee for thy delicate children; enlarge thy baldness as the eagle; for they are gone into captivity from thee. \n \n\nChapter 2\n1 Woe to them that devise iniquity, and work evil upon their beds! when the morning is light, they practise it, because it is in the power of their hand. \n2 And they covet fields, and take them by violence; and houses, and take them away: so they oppress a man and his house, even a man and his heritage. \n3 Therefore thus saith הוהי; Behold, against this family do I devise an evil, from which ye shall not remove your necks; neither shall ye go haughtily: for this time is evil. \n4 In that day shall one take up a parable against you, and lament with a doleful lamentation, and say, We be utterly spoiled: he hath changed the portion of my people: how hath he removed it from me! turning away he hath divided our fields. \n5 Therefore thou shalt have none that shall cast a cord by lot in the congregation of הוהי. \n6 Prophesy ye not, say they to them that prophesy: they shall not prophesy to them, that they shall not take shame. \n7 O thou that art named the house of Jacob, is the spirit of הוהי straitened? are these his doings? do not my words do good to him that walketh uprightly? \n8 Even of late my people is risen up as an enemy: ye pull off the robe with the garment from them that pass by securely as men averse from war. \n9 The women of my people have ye cast out from their pleasant houses; from their children have ye taken away my glory for ever. \n10 Arise ye, and depart; for this is not your rest: because it is polluted, it shall destroy you, even with a sore destruction. \n11 If a man walking in the spirit and falsehood do lie, saying, I will prophesy unto thee of wine and of strong drink; he shall even be the prophet of this people. \n12 I will surely assemble, O Jacob, all of thee; I will surely gather the remnant of Israel; I will put them together as the sheep of Bozrah, as the flock in the midst of their fold: they shall make great noise by reason of the multitude of men. \n13 The breaker is come up before them: they have broken up, and have passed through the gate, and are gone out by it: and their king shall pass before them, and הוהי on the head of them. \n \n\nChapter 3\n1 And I said, Hear, I pray you, O heads of Jacob, and ye princes of the house of Israel; Is it not for you to know judgment? \n2 Who hate the good, and love the evil; who pluck off their skin from off them, and their flesh from off their bones; \n3 Who also eat the flesh of my people, and flay their skin from off them; and they break their bones, and chop them in pieces, as for the pot, and as flesh within the caldron. \n4 Then shall they cry unto הוהי, but he will not hear them: he will even hide his face from them at that time, as they have behaved themselves ill in their doings. \n5 Thus saith הוהי concerning the prophets that make my people err, that bite with their teeth, and cry, Peace; and he that putteth not into their mouths, they even prepare war against him. \n6 Therefore night shall be unto you, that ye shall not have a vision; and it shall be dark unto you, that ye shall not divine; and the sun shall go down over the prophets, and the day shall be dark over them. \n7 Then shall the seers be ashamed, and the diviners confounded: yea, they shall all cover their lips; for there is no answer of God. \n8 But truly I am full of power by the spirit of הוהי, and of judgment, and of might, to declare unto Jacob his transgression, and to Israel his sin. \n9 Hear this, I pray you, ye heads of the house of Jacob, and princes of the house of Israel, that abhor judgment, and pervert all equity. \n10 They build up Zion with blood, and Jerusalem with iniquity. \n11 The heads thereof judge for reward, and the priests thereof teach for hire, and the prophets thereof divine for money: yet will they lean upon הוהי, and say, Is not הוהי among us? none evil can come upon us. \n12 Therefore shall Zion for your sake be plowed as a field, and Jerusalem shall become heaps, and the mountain of the house as the high places of the forest. \n \n\nChapter 4\n1 But in the last days it shall come to pass, that the mountain of the house of הוהי shall be established in the top of the mountains, and it shall be exalted above the hills; and people shall flow unto it. \n2 And many nations shall come, and say, Come, and let us go up to the mountain of הוהי, and to the house of the God of Jacob; and he will teach us of his ways, and we will walk in his paths: for the law shall go forth of Zion, and the word of הוהי from Jerusalem. \n3 And he shall judge among many people, and rebuke strong nations afar off; and they shall beat their swords into plowshares, and their spears into pruninghooks: nation shall not lift up a sword against nation, neither shall they learn war any more. \n4 But they shall sit every man under his vine and under his fig tree; and none shall make them afraid: for the mouth of הוהי of hosts hath spoken it. \n5 For all people will walk every one in the name of his god, and we will walk in the name of הוהי our God for ever and ever. \n6 In that day, saith הוהי, will I assemble her that halteth, and I will gather her that is driven out, and her that I have afflicted; \n7 And I will make her that halted a remnant, and her that was cast far off a strong nation: and הוהי shall reign over them in mount Zion from henceforth, even for ever. \n8 And thou, O tower of the flock, the strong hold of the daughter of Zion, unto thee shall it come, even the first dominion; the kingdom shall come to the daughter of Jerusalem. \n9 Now why dost thou cry out aloud? is there no king in thee? is thy counsellor perished? for pangs have taken thee as a woman in travail. \n10 Be in pain, and labour to bring forth, O daughter of Zion, like a woman in travail: for now shalt thou go forth out of the city, and thou shalt dwell in the field, and thou shalt go even to Babylon; there shalt thou be delivered; there הוהי shall redeem thee from the hand of thine enemies. \n11 Now also many nations are gathered against thee, that say, Let her be defiled, and let our eye look upon Zion. \n12 But they know not the thoughts of הוהי, neither understand they his counsel: for he shall gather them as the sheaves into the floor. \n13 Arise and thresh, O daughter of Zion: for I will make thine horn iron, and I will make thy hoofs brass: and thou shalt beat in pieces many people: and I will consecrate their gain unto הוהי, and their substance unto the Lord of the whole earth. \n \n\nChapter 5\n1 Now gather thyself in troops, O daughter of troops: he hath laid siege against us: they shall smite the judge of Israel with a rod upon the cheek. \n2 But thou, Bethlehem Ephratah, though thou be little among the thousands of Judah, yet out of thee shall he come forth unto me that is to be ruler in Israel; whose goings forth have been from of old, from everlasting. \n3 Therefore will he give them up, until the time that she which travaileth hath brought forth: then the remnant of his brethren shall return unto the children of Israel. \n4 And he shall stand and feed in the strength of הוהי, in the majesty of the name of הוהי his God; and they shall abide: for now shall he be great unto the ends of the earth. \n5 And this man shall be the peace, when the Assyrian shall come into our land: and when he shall tread in our palaces, then shall we raise against him seven shepherds, and eight principal men. \n6 And they shall waste the land of Assyria with the sword, and the land of Nimrod in the entrances thereof: thus shall he deliver us from the Assyrian, when he cometh into our land, and when he treadeth within our borders. \n7 And the remnant of Jacob shall be in the midst of many people as a dew from הוהי, as the showers upon the grass, that tarrieth not for man, nor waiteth for the sons of men. \n8 And the remnant of Jacob shall be among the Gentiles in the midst of many people as a lion among the beasts of the forest, as a young lion among the flocks of sheep: who, if he go through, both treadeth down, and teareth in pieces, and none can deliver. \n9 Thine hand shall be lifted up upon thine adversaries, and all thine enemies shall be cut off. \n10 And it shall come to pass in that day, saith הוהי, that I will cut off thy horses out of the midst of thee, and I will destroy thy chariots: \n11 And I will cut off the cities of thy land, and throw down all thy strong holds: \n12 And I will cut off witchcrafts out of thine hand; and thou shalt have no more soothsayers: \n13 Thy graven images also will I cut off, and thy standing images out of the midst of thee; and thou shalt no more worship the work of thine hands. \n14 And I will pluck up thy groves out of the midst of thee: so will I destroy thy cities. \n15 And I will execute vengeance in anger and fury upon the heathen, such as they have not heard. \n \n\nChapter 6\n1 Hear ye now what הוהי saith; Arise, contend thou before the mountains, and let the hills hear thy voice. \n2 Hear ye, O mountains, הוהי's controversy, and ye strong foundations of the earth: for הוהי hath a controversy with his people, and he will plead with Israel. \n3 O my people, what have I done unto thee? and wherein have I wearied thee? testify against me. \n4 For I brought thee up out of the land of Egypt, and redeemed thee out of the house of servants; and I sent before thee Moses, Aaron, and Miriam. \n5 O my people, remember now what Balak king of Moab consulted, and what Balaam the son of Beor answered him from Shittim unto Gilgal; that ye may know the righteousness of הוהי. \n6 Wherewith shall I come before הוהי, and bow myself before the high God? shall I come before him with burnt offerings, with calves of a year old? \n7 Will הוהי be pleased with thousands of rams, or with ten thousands of rivers of oil? shall I give my firstborn for my transgression, the fruit of my body for the sin of my soul? \n8 He hath shewed thee, O man, what is good; and what doth הוהי require of thee, but to do justly, and to love mercy, and to walk humbly with thy God? \n9 הוהי's voice crieth unto the city, and the man of wisdom shall see thy name: hear ye the rod, and who hath appointed it. \n10 Are there yet the treasures of wickedness in the house of the wicked, and the scant measure that is abominable? \n11 Shall I count them pure with the wicked balances, and with the bag of deceitful weights? \n12 For the rich men thereof are full of violence, and the inhabitants thereof have spoken lies, and their tongue is deceitful in their mouth. \n13 Therefore also will I make thee sick in smiting thee, in making thee desolate because of thy sins. \n14 Thou shalt eat, but not be satisfied; and thy casting down shall be in the midst of thee; and thou shalt take hold, but shalt not deliver; and that which thou deliverest will I give up to the sword. \n15 Thou shalt sow, but thou shalt not reap; thou shalt tread the olives, but thou shalt not anoint thee with oil; and sweet wine, but shalt not drink wine. \n16 For the statutes of Omri are kept, and all the works of the house of Ahab, and ye walk in their counsels; that I should make thee a desolation, and the inhabitants thereof an hissing: therefore ye shall bear the reproach of my people. \n \n\nChapter 7\n1 Woe is me! for I am as when they have gathered the summer fruits, as the grapegleanings of the vintage: there is no cluster to eat: my soul desired the firstripe fruit. \n2 The good man is perished out of the earth: and there is none upright among men: they all lie in wait for blood; they hunt every man his brother with a net. \n3 That they may do evil with both hands earnestly, the prince asketh, and the judge asketh for a reward; and the great man, he uttereth his mischievous desire: so they wrap it up. \n4 The best of them is as a brier: the most upright is sharper than a thorn hedge: the day of thy watchmen and thy visitation cometh; now shall be their perplexity. \n5 Trust ye not in a friend, put ye not confidence in a guide: keep the doors of thy mouth from her that lieth in thy bosom. \n6 For the son dishonoureth the father, the daughter riseth up against her mother, the daughter in law against her mother in law; a man's enemies are the men of his own house. \n7 Therefore I will look unto הוהי; I will wait for the God of my salvation: my God will hear me. \n8 Rejoice not against me, O mine enemy: when I fall, I shall arise; when I sit in darkness, הוהי shall be a light unto me. \n9 I will bear the indignation of הוהי, because I have sinned against him, until he plead my cause, and execute judgment for me: he will bring me forth to the light, and I shall behold his righteousness. \n10 Then she that is mine enemy shall see it, and shame shall cover her which said unto me, Where is הוהי thy God? mine eyes shall behold her: now shall she be trodden down as the mire of the streets. \n11 In the day that thy walls are to be built, in that day shall the decree be far removed. \n12 In that day also he shall come even to thee from Assyria, and from the fortified cities, and from the fortress even to the river, and from sea to sea, and from mountain to mountain. \n13 Notwithstanding the land shall be desolate because of them that dwell therein, for the fruit of their doings. \n14 Feed thy people with thy rod, the flock of thine heritage, which dwell solitarily in the wood, in the midst of Carmel: let them feed in Bashan and Gilead, as in the days of old. \n15 According to the days of thy coming out of the land of Egypt will I shew unto him marvellous things. \n16 The nations shall see and be confounded at all their might: they shall lay their hand upon their mouth, their ears shall be deaf. \n17 They shall lick the dust like a serpent, they shall move out of their holes like worms of the earth: they shall be afraid of הוהי our God, and shall fear because of thee. \n18 Who is a God like unto thee, that pardoneth iniquity, and passeth by the transgression of the remnant of his heritage? he retaineth not his anger for ever, because he delighteth in mercy. \n19 He will turn again, he will have compassion upon us; he will subdue our iniquities; and thou wilt cast all their sins into the depths of the sea. \n20 Thou wilt perform the truth to Jacob, and the mercy to Abraham, which thou hast sworn unto our fathers from the days of old. \n \n\n"
     ]
    }
   ],
   "source": [
    "bk: str = \"Micah\"\n",
    "show_numbers: bool = True\n",
    "the_name: str = \"\\U000005d4\\U000005d5\\U000005d4\\U000005d9\"\n",
    "replace_the_name: bool = True\n",
    "\n",
    "\n",
    "for chap in bible[bk].keys():\n",
    "    if show_numbers:\n",
    "        print(f\"Chapter {chap}\")\n",
    "    for vv in bible[bk][chap].keys():\n",
    "        filtered: str = bible[bk][chap][vv]\n",
    "        if replace_the_name:\n",
    "            if \"The LORD\" in filtered:\n",
    "                filtered = filtered.replace(\"The LORD\", the_name)\n",
    "            if \"the LORD\" in filtered:\n",
    "                filtered = filtered.replace(\"the LORD\", the_name)\n",
    "        if show_numbers:\n",
    "            print(f\"{vv} {filtered}\")\n",
    "        else:\n",
    "            print(filtered)\n",
    "    print(\" \\n\")"
   ]
  },
  {
   "cell_type": "code",
   "execution_count": null,
   "metadata": {},
   "outputs": [],
   "source": []
  }
 ]
}